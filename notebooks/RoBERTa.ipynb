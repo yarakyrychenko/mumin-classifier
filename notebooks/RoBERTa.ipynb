{
  "nbformat": 4,
  "nbformat_minor": 0,
  "metadata": {
    "colab": {
      "name": "RoBERTa.ipynb",
      "provenance": [],
      "collapsed_sections": []
    },
    "kernelspec": {
      "name": "python3",
      "display_name": "Python 3"
    },
    "language_info": {
      "name": "python"
    }
  },
  "cells": [
    {
      "cell_type": "markdown",
      "source": [
        "# Set Up"
      ],
      "metadata": {
        "id": "5QuefoekNefY"
      }
    },
    {
      "cell_type": "code",
      "source": [
        "from google.colab import files\n",
        "from google.colab import drive\n",
        "drive.mount('/content/drive')"
      ],
      "metadata": {
        "colab": {
          "base_uri": "https://localhost:8080/"
        },
        "id": "QBbG-SIZ969D",
        "outputId": "c34dfca3-3005-4cc9-f758-3e11188897b4"
      },
      "execution_count": null,
      "outputs": [
        {
          "output_type": "stream",
          "name": "stdout",
          "text": [
            "Mounted at /content/drive\n"
          ]
        }
      ]
    },
    {
      "cell_type": "code",
      "source": [
        "!pip install sentencepiece\n",
        "!pip install transformers"
      ],
      "metadata": {
        "colab": {
          "base_uri": "https://localhost:8080/"
        },
        "id": "UumWEhcf97be",
        "outputId": "c5c9c9af-db73-47c1-9a68-a97e940cd886"
      },
      "execution_count": null,
      "outputs": [
        {
          "output_type": "stream",
          "name": "stdout",
          "text": [
            "Collecting sentencepiece\n",
            "  Downloading sentencepiece-0.1.96-cp37-cp37m-manylinux_2_17_x86_64.manylinux2014_x86_64.whl (1.2 MB)\n",
            "\u001b[?25l\r\u001b[K     |▎                               | 10 kB 29.2 MB/s eta 0:00:01\r\u001b[K     |▌                               | 20 kB 35.3 MB/s eta 0:00:01\r\u001b[K     |▉                               | 30 kB 14.8 MB/s eta 0:00:01\r\u001b[K     |█                               | 40 kB 7.5 MB/s eta 0:00:01\r\u001b[K     |█▍                              | 51 kB 7.6 MB/s eta 0:00:01\r\u001b[K     |█▋                              | 61 kB 8.9 MB/s eta 0:00:01\r\u001b[K     |██                              | 71 kB 9.3 MB/s eta 0:00:01\r\u001b[K     |██▏                             | 81 kB 8.6 MB/s eta 0:00:01\r\u001b[K     |██▍                             | 92 kB 9.4 MB/s eta 0:00:01\r\u001b[K     |██▊                             | 102 kB 7.7 MB/s eta 0:00:01\r\u001b[K     |███                             | 112 kB 7.7 MB/s eta 0:00:01\r\u001b[K     |███▎                            | 122 kB 7.7 MB/s eta 0:00:01\r\u001b[K     |███▌                            | 133 kB 7.7 MB/s eta 0:00:01\r\u001b[K     |███▉                            | 143 kB 7.7 MB/s eta 0:00:01\r\u001b[K     |████                            | 153 kB 7.7 MB/s eta 0:00:01\r\u001b[K     |████▎                           | 163 kB 7.7 MB/s eta 0:00:01\r\u001b[K     |████▋                           | 174 kB 7.7 MB/s eta 0:00:01\r\u001b[K     |████▉                           | 184 kB 7.7 MB/s eta 0:00:01\r\u001b[K     |█████▏                          | 194 kB 7.7 MB/s eta 0:00:01\r\u001b[K     |█████▍                          | 204 kB 7.7 MB/s eta 0:00:01\r\u001b[K     |█████▊                          | 215 kB 7.7 MB/s eta 0:00:01\r\u001b[K     |██████                          | 225 kB 7.7 MB/s eta 0:00:01\r\u001b[K     |██████▏                         | 235 kB 7.7 MB/s eta 0:00:01\r\u001b[K     |██████▌                         | 245 kB 7.7 MB/s eta 0:00:01\r\u001b[K     |██████▊                         | 256 kB 7.7 MB/s eta 0:00:01\r\u001b[K     |███████                         | 266 kB 7.7 MB/s eta 0:00:01\r\u001b[K     |███████▎                        | 276 kB 7.7 MB/s eta 0:00:01\r\u001b[K     |███████▋                        | 286 kB 7.7 MB/s eta 0:00:01\r\u001b[K     |███████▉                        | 296 kB 7.7 MB/s eta 0:00:01\r\u001b[K     |████████                        | 307 kB 7.7 MB/s eta 0:00:01\r\u001b[K     |████████▍                       | 317 kB 7.7 MB/s eta 0:00:01\r\u001b[K     |████████▋                       | 327 kB 7.7 MB/s eta 0:00:01\r\u001b[K     |█████████                       | 337 kB 7.7 MB/s eta 0:00:01\r\u001b[K     |█████████▏                      | 348 kB 7.7 MB/s eta 0:00:01\r\u001b[K     |█████████▌                      | 358 kB 7.7 MB/s eta 0:00:01\r\u001b[K     |█████████▊                      | 368 kB 7.7 MB/s eta 0:00:01\r\u001b[K     |██████████                      | 378 kB 7.7 MB/s eta 0:00:01\r\u001b[K     |██████████▎                     | 389 kB 7.7 MB/s eta 0:00:01\r\u001b[K     |██████████▌                     | 399 kB 7.7 MB/s eta 0:00:01\r\u001b[K     |██████████▉                     | 409 kB 7.7 MB/s eta 0:00:01\r\u001b[K     |███████████                     | 419 kB 7.7 MB/s eta 0:00:01\r\u001b[K     |███████████▍                    | 430 kB 7.7 MB/s eta 0:00:01\r\u001b[K     |███████████▋                    | 440 kB 7.7 MB/s eta 0:00:01\r\u001b[K     |███████████▉                    | 450 kB 7.7 MB/s eta 0:00:01\r\u001b[K     |████████████▏                   | 460 kB 7.7 MB/s eta 0:00:01\r\u001b[K     |████████████▍                   | 471 kB 7.7 MB/s eta 0:00:01\r\u001b[K     |████████████▊                   | 481 kB 7.7 MB/s eta 0:00:01\r\u001b[K     |█████████████                   | 491 kB 7.7 MB/s eta 0:00:01\r\u001b[K     |█████████████▎                  | 501 kB 7.7 MB/s eta 0:00:01\r\u001b[K     |█████████████▌                  | 512 kB 7.7 MB/s eta 0:00:01\r\u001b[K     |█████████████▊                  | 522 kB 7.7 MB/s eta 0:00:01\r\u001b[K     |██████████████                  | 532 kB 7.7 MB/s eta 0:00:01\r\u001b[K     |██████████████▎                 | 542 kB 7.7 MB/s eta 0:00:01\r\u001b[K     |██████████████▋                 | 552 kB 7.7 MB/s eta 0:00:01\r\u001b[K     |██████████████▉                 | 563 kB 7.7 MB/s eta 0:00:01\r\u001b[K     |███████████████▏                | 573 kB 7.7 MB/s eta 0:00:01\r\u001b[K     |███████████████▍                | 583 kB 7.7 MB/s eta 0:00:01\r\u001b[K     |███████████████▋                | 593 kB 7.7 MB/s eta 0:00:01\r\u001b[K     |████████████████                | 604 kB 7.7 MB/s eta 0:00:01\r\u001b[K     |████████████████▏               | 614 kB 7.7 MB/s eta 0:00:01\r\u001b[K     |████████████████▌               | 624 kB 7.7 MB/s eta 0:00:01\r\u001b[K     |████████████████▊               | 634 kB 7.7 MB/s eta 0:00:01\r\u001b[K     |█████████████████               | 645 kB 7.7 MB/s eta 0:00:01\r\u001b[K     |█████████████████▎              | 655 kB 7.7 MB/s eta 0:00:01\r\u001b[K     |█████████████████▌              | 665 kB 7.7 MB/s eta 0:00:01\r\u001b[K     |█████████████████▉              | 675 kB 7.7 MB/s eta 0:00:01\r\u001b[K     |██████████████████              | 686 kB 7.7 MB/s eta 0:00:01\r\u001b[K     |██████████████████▍             | 696 kB 7.7 MB/s eta 0:00:01\r\u001b[K     |██████████████████▋             | 706 kB 7.7 MB/s eta 0:00:01\r\u001b[K     |███████████████████             | 716 kB 7.7 MB/s eta 0:00:01\r\u001b[K     |███████████████████▏            | 727 kB 7.7 MB/s eta 0:00:01\r\u001b[K     |███████████████████▍            | 737 kB 7.7 MB/s eta 0:00:01\r\u001b[K     |███████████████████▊            | 747 kB 7.7 MB/s eta 0:00:01\r\u001b[K     |████████████████████            | 757 kB 7.7 MB/s eta 0:00:01\r\u001b[K     |████████████████████▎           | 768 kB 7.7 MB/s eta 0:00:01\r\u001b[K     |████████████████████▌           | 778 kB 7.7 MB/s eta 0:00:01\r\u001b[K     |████████████████████▉           | 788 kB 7.7 MB/s eta 0:00:01\r\u001b[K     |█████████████████████           | 798 kB 7.7 MB/s eta 0:00:01\r\u001b[K     |█████████████████████▎          | 808 kB 7.7 MB/s eta 0:00:01\r\u001b[K     |█████████████████████▋          | 819 kB 7.7 MB/s eta 0:00:01\r\u001b[K     |█████████████████████▉          | 829 kB 7.7 MB/s eta 0:00:01\r\u001b[K     |██████████████████████▏         | 839 kB 7.7 MB/s eta 0:00:01\r\u001b[K     |██████████████████████▍         | 849 kB 7.7 MB/s eta 0:00:01\r\u001b[K     |██████████████████████▊         | 860 kB 7.7 MB/s eta 0:00:01\r\u001b[K     |███████████████████████         | 870 kB 7.7 MB/s eta 0:00:01\r\u001b[K     |███████████████████████▏        | 880 kB 7.7 MB/s eta 0:00:01\r\u001b[K     |███████████████████████▌        | 890 kB 7.7 MB/s eta 0:00:01\r\u001b[K     |███████████████████████▊        | 901 kB 7.7 MB/s eta 0:00:01\r\u001b[K     |████████████████████████        | 911 kB 7.7 MB/s eta 0:00:01\r\u001b[K     |████████████████████████▎       | 921 kB 7.7 MB/s eta 0:00:01\r\u001b[K     |████████████████████████▋       | 931 kB 7.7 MB/s eta 0:00:01\r\u001b[K     |████████████████████████▉       | 942 kB 7.7 MB/s eta 0:00:01\r\u001b[K     |█████████████████████████       | 952 kB 7.7 MB/s eta 0:00:01\r\u001b[K     |█████████████████████████▍      | 962 kB 7.7 MB/s eta 0:00:01\r\u001b[K     |█████████████████████████▋      | 972 kB 7.7 MB/s eta 0:00:01\r\u001b[K     |██████████████████████████      | 983 kB 7.7 MB/s eta 0:00:01\r\u001b[K     |██████████████████████████▏     | 993 kB 7.7 MB/s eta 0:00:01\r\u001b[K     |██████████████████████████▌     | 1.0 MB 7.7 MB/s eta 0:00:01\r\u001b[K     |██████████████████████████▊     | 1.0 MB 7.7 MB/s eta 0:00:01\r\u001b[K     |███████████████████████████     | 1.0 MB 7.7 MB/s eta 0:00:01\r\u001b[K     |███████████████████████████▎    | 1.0 MB 7.7 MB/s eta 0:00:01\r\u001b[K     |███████████████████████████▌    | 1.0 MB 7.7 MB/s eta 0:00:01\r\u001b[K     |███████████████████████████▉    | 1.1 MB 7.7 MB/s eta 0:00:01\r\u001b[K     |████████████████████████████    | 1.1 MB 7.7 MB/s eta 0:00:01\r\u001b[K     |████████████████████████████▍   | 1.1 MB 7.7 MB/s eta 0:00:01\r\u001b[K     |████████████████████████████▋   | 1.1 MB 7.7 MB/s eta 0:00:01\r\u001b[K     |████████████████████████████▉   | 1.1 MB 7.7 MB/s eta 0:00:01\r\u001b[K     |█████████████████████████████▏  | 1.1 MB 7.7 MB/s eta 0:00:01\r\u001b[K     |█████████████████████████████▍  | 1.1 MB 7.7 MB/s eta 0:00:01\r\u001b[K     |█████████████████████████████▊  | 1.1 MB 7.7 MB/s eta 0:00:01\r\u001b[K     |██████████████████████████████  | 1.1 MB 7.7 MB/s eta 0:00:01\r\u001b[K     |██████████████████████████████▎ | 1.1 MB 7.7 MB/s eta 0:00:01\r\u001b[K     |██████████████████████████████▌ | 1.2 MB 7.7 MB/s eta 0:00:01\r\u001b[K     |██████████████████████████████▊ | 1.2 MB 7.7 MB/s eta 0:00:01\r\u001b[K     |███████████████████████████████ | 1.2 MB 7.7 MB/s eta 0:00:01\r\u001b[K     |███████████████████████████████▎| 1.2 MB 7.7 MB/s eta 0:00:01\r\u001b[K     |███████████████████████████████▋| 1.2 MB 7.7 MB/s eta 0:00:01\r\u001b[K     |███████████████████████████████▉| 1.2 MB 7.7 MB/s eta 0:00:01\r\u001b[K     |████████████████████████████████| 1.2 MB 7.7 MB/s \n",
            "\u001b[?25hInstalling collected packages: sentencepiece\n",
            "Successfully installed sentencepiece-0.1.96\n",
            "Collecting transformers\n",
            "  Downloading transformers-4.19.0-py3-none-any.whl (4.2 MB)\n",
            "\u001b[K     |████████████████████████████████| 4.2 MB 8.4 MB/s \n",
            "\u001b[?25hRequirement already satisfied: importlib-metadata in /usr/local/lib/python3.7/dist-packages (from transformers) (4.11.3)\n",
            "Requirement already satisfied: filelock in /usr/local/lib/python3.7/dist-packages (from transformers) (3.6.0)\n",
            "Requirement already satisfied: regex!=2019.12.17 in /usr/local/lib/python3.7/dist-packages (from transformers) (2019.12.20)\n",
            "Requirement already satisfied: packaging>=20.0 in /usr/local/lib/python3.7/dist-packages (from transformers) (21.3)\n",
            "Requirement already satisfied: requests in /usr/local/lib/python3.7/dist-packages (from transformers) (2.23.0)\n",
            "Collecting pyyaml>=5.1\n",
            "  Downloading PyYAML-6.0-cp37-cp37m-manylinux_2_5_x86_64.manylinux1_x86_64.manylinux_2_12_x86_64.manylinux2010_x86_64.whl (596 kB)\n",
            "\u001b[K     |████████████████████████████████| 596 kB 50.1 MB/s \n",
            "\u001b[?25hRequirement already satisfied: tqdm>=4.27 in /usr/local/lib/python3.7/dist-packages (from transformers) (4.64.0)\n",
            "Collecting tokenizers!=0.11.3,<0.13,>=0.11.1\n",
            "  Downloading tokenizers-0.12.1-cp37-cp37m-manylinux_2_12_x86_64.manylinux2010_x86_64.whl (6.6 MB)\n",
            "\u001b[K     |████████████████████████████████| 6.6 MB 34.3 MB/s \n",
            "\u001b[?25hCollecting huggingface-hub<1.0,>=0.1.0\n",
            "  Downloading huggingface_hub-0.6.0-py3-none-any.whl (84 kB)\n",
            "\u001b[K     |████████████████████████████████| 84 kB 4.3 MB/s \n",
            "\u001b[?25hRequirement already satisfied: numpy>=1.17 in /usr/local/lib/python3.7/dist-packages (from transformers) (1.21.6)\n",
            "Requirement already satisfied: typing-extensions>=3.7.4.3 in /usr/local/lib/python3.7/dist-packages (from huggingface-hub<1.0,>=0.1.0->transformers) (4.2.0)\n",
            "Requirement already satisfied: pyparsing!=3.0.5,>=2.0.2 in /usr/local/lib/python3.7/dist-packages (from packaging>=20.0->transformers) (3.0.8)\n",
            "Requirement already satisfied: zipp>=0.5 in /usr/local/lib/python3.7/dist-packages (from importlib-metadata->transformers) (3.8.0)\n",
            "Requirement already satisfied: urllib3!=1.25.0,!=1.25.1,<1.26,>=1.21.1 in /usr/local/lib/python3.7/dist-packages (from requests->transformers) (1.24.3)\n",
            "Requirement already satisfied: idna<3,>=2.5 in /usr/local/lib/python3.7/dist-packages (from requests->transformers) (2.10)\n",
            "Requirement already satisfied: chardet<4,>=3.0.2 in /usr/local/lib/python3.7/dist-packages (from requests->transformers) (3.0.4)\n",
            "Requirement already satisfied: certifi>=2017.4.17 in /usr/local/lib/python3.7/dist-packages (from requests->transformers) (2021.10.8)\n",
            "Installing collected packages: pyyaml, tokenizers, huggingface-hub, transformers\n",
            "  Attempting uninstall: pyyaml\n",
            "    Found existing installation: PyYAML 3.13\n",
            "    Uninstalling PyYAML-3.13:\n",
            "      Successfully uninstalled PyYAML-3.13\n",
            "Successfully installed huggingface-hub-0.6.0 pyyaml-6.0 tokenizers-0.12.1 transformers-4.19.0\n"
          ]
        }
      ]
    },
    {
      "cell_type": "code",
      "source": [
        "!cp /content/drive/MyDrive/mumin-classifier/tg_data.py /content\n",
        "!cp /content/drive/MyDrive/mumin-classifier/data_utils.py /content"
      ],
      "metadata": {
        "id": "9KyUge50-A2b"
      },
      "execution_count": null,
      "outputs": []
    },
    {
      "cell_type": "markdown",
      "source": [
        "# Training "
      ],
      "metadata": {
        "id": "XPNyQDpFNKVO"
      }
    },
    {
      "cell_type": "code",
      "source": [
        "def compute_metrics(eval_pred):\n",
        "    \"\"\"Computes accuracy, f1, precision, and recall from a \n",
        "    transformers.trainer_utils.EvalPrediction object.\n",
        "    \"\"\"\n",
        "    from sklearn import metrics\n",
        "    labels = eval_pred.label_ids\n",
        "    preds = eval_pred.predictions.argmax(-1)\n",
        "\n",
        "    accuracy = metrics.accuracy_score(y_true=labels, y_pred=preds)\n",
        "    precision, recall, f1, _ = metrics.precision_recall_fscore_support(y_true=labels, y_pred=preds, average='macro')\n",
        "\n",
        "    result = {\n",
        "        'accuracy': accuracy,\n",
        "        'f1': f1,\n",
        "        'precision': precision,\n",
        "        'recall': recall\n",
        "    }\n",
        "\n",
        "    return result\n",
        "\n",
        "def model_init():\n",
        "    \"\"\"Returns an initialized model for use in a Hugging Face Trainer.\"\"\"\n",
        "    from transformers import RobertaConfig, RobertaForSequenceClassification\n",
        "\n",
        "    configuration = RobertaConfig()\n",
        "    model = RobertaForSequenceClassification(configuration).from_pretrained(\"roberta-base\")\n",
        "\n",
        "    return model"
      ],
      "metadata": {
        "id": "6vKG4mXNNbb_"
      },
      "execution_count": null,
      "outputs": []
    },
    {
      "cell_type": "code",
      "execution_count": null,
      "metadata": {
        "colab": {
          "base_uri": "https://localhost:8080/",
          "height": 368
        },
        "id": "L-zDEZks90ti",
        "outputId": "28b0f893-dce9-4433-b7ce-2a8fe25ba4d8"
      },
      "outputs": [
        {
          "output_type": "error",
          "ename": "ModuleNotFoundError",
          "evalue": "ignored",
          "traceback": [
            "\u001b[0;31m---------------------------------------------------------------------------\u001b[0m",
            "\u001b[0;31mModuleNotFoundError\u001b[0m                       Traceback (most recent call last)",
            "\u001b[0;32m<ipython-input-3-29a86875effa>\u001b[0m in \u001b[0;36m<module>\u001b[0;34m()\u001b[0m\n\u001b[1;32m      1\u001b[0m \u001b[0;34m\u001b[0m\u001b[0m\n\u001b[0;32m----> 2\u001b[0;31m \u001b[0;32mimport\u001b[0m \u001b[0mtg_data\u001b[0m\u001b[0;34m\u001b[0m\u001b[0;34m\u001b[0m\u001b[0m\n\u001b[0m\u001b[1;32m      3\u001b[0m \u001b[0;32mimport\u001b[0m \u001b[0mdata_utils\u001b[0m\u001b[0;34m\u001b[0m\u001b[0;34m\u001b[0m\u001b[0m\n\u001b[1;32m      4\u001b[0m \u001b[0;32mimport\u001b[0m \u001b[0mpandas\u001b[0m \u001b[0;32mas\u001b[0m \u001b[0mpd\u001b[0m\u001b[0;34m\u001b[0m\u001b[0;34m\u001b[0m\u001b[0m\n\u001b[1;32m      5\u001b[0m \u001b[0;32mimport\u001b[0m \u001b[0mtorch\u001b[0m\u001b[0;34m\u001b[0m\u001b[0;34m\u001b[0m\u001b[0m\n",
            "\u001b[0;31mModuleNotFoundError\u001b[0m: No module named 'tg_data'",
            "",
            "\u001b[0;31m---------------------------------------------------------------------------\u001b[0;32m\nNOTE: If your import is failing due to a missing package, you can\nmanually install dependencies using either !pip or !apt.\n\nTo view examples of installing some common dependencies, click the\n\"Open Examples\" button below.\n\u001b[0;31m---------------------------------------------------------------------------\u001b[0m\n"
          ],
          "errorDetails": {
            "actions": [
              {
                "action": "open_url",
                "actionText": "Open Examples",
                "url": "/notebooks/snippets/importing_libraries.ipynb"
              }
            ]
          }
        }
      ],
      "source": [
        "\n",
        "import tg_data\n",
        "import data_utils\n",
        "import pandas as pd\n",
        "import torch\n",
        "import transformers\n",
        "from transformers import RobertaTokenizer, Trainer, TrainingArguments\n",
        "from transformers import BertTokenizer, RobertaForSequenceClassification\n",
        "import sklearn\n",
        "import numpy as np\n",
        "from sklearn import metrics\n",
        "from sklearn.metrics import f1_score\n",
        "\n",
        "train_df = pd.read_csv(\"/content/drive/MyDrive/mumin-classifier/data/train_en.csv\")\n",
        "val_df = pd.read_csv(\"/content/drive/MyDrive/mumin-classifier/data/val_en.csv\")\n",
        "test_df = pd.read_csv(\"/content/drive/MyDrive/mumin-classifier/data/test_en.csv\")\n",
        "\n",
        "tokenizer = RobertaTokenizer.from_pretrained(\"roberta-base\")\n",
        "train_data = tg_data.TGDataset(train_df, tokenizer)\n",
        "val_data = tg_data.TGDataset(val_df, tokenizer)\n",
        "test_data = tg_data.TGDataset(test_df, tokenizer)\n",
        "\n",
        "\n",
        "model_path = 'out_roberta'\n",
        "trainingargs = TrainingArguments(\n",
        "    output_dir=model_path,\n",
        "    do_train=True,\n",
        "    do_eval=True,\n",
        "    disable_tqdm=False,\n",
        "    learning_rate=1e-5,\n",
        "    num_train_epochs=3,\n",
        "    weight_decay=0.01,\n",
        "    logging_steps=500,\n",
        "    logging_first_step=True,\n",
        "    #save_steps=1000,\n",
        "    evaluation_strategy = \"epoch\"\n",
        "    )\n",
        "\n",
        "trainer = Trainer(\n",
        "    args = trainingargs,\n",
        "    tokenizer = tokenizer,\n",
        "    train_dataset = train_data,\n",
        "    eval_dataset = val_data,\n",
        "    model_init = model_init,\n",
        "    compute_metrics = compute_metrics\n",
        "    )\n",
        "\n",
        "\n",
        "print(\"STARTED TRAINING\")\n",
        "#trainer.train()\n",
        "print(\"TRAINING DONE\")\n",
        "\n",
        "#trainer.save_model()\n",
        "print(\"MODEL SAVED\")    "
      ]
    },
    {
      "cell_type": "code",
      "source": [
        "predictions = trainer.predict(test_data)\n",
        "preds = np.argmax(predictions.predictions, axis=-1)\n",
        "\n",
        "test_scores = f1_score(test_data.label_list, preds, average=None)\n",
        "\n",
        "print(f'\\nMisinformation F1: {100 * test_scores[1]:.2f}%')\n",
        "print(f'Factual F1: {100 * test_scores[0]:.2f}%')\n",
        "print(f'macro-average F1: {100 * test_scores.mean():.4f}%\\n')\n",
        "\n",
        "\n",
        "report = sklearn.metrics.classification_report(y_pred=preds, y_true=predictions.label_ids)\n",
        "\n",
        "print(report)"
      ],
      "metadata": {
        "colab": {
          "base_uri": "https://localhost:8080/",
          "height": 326
        },
        "id": "qAaNWsKC-1oW",
        "outputId": "226da3fa-d0d6-41c7-b396-5d485dd6aced"
      },
      "execution_count": null,
      "outputs": [
        {
          "output_type": "stream",
          "name": "stderr",
          "text": [
            "***** Running Prediction *****\n",
            "  Num examples = 543\n",
            "  Batch size = 8\n"
          ]
        },
        {
          "output_type": "display_data",
          "data": {
            "text/plain": [
              "<IPython.core.display.HTML object>"
            ],
            "text/html": [
              "\n",
              "    <div>\n",
              "      \n",
              "      <progress value='68' max='68' style='width:300px; height:20px; vertical-align: middle;'></progress>\n",
              "      [68/68 00:07]\n",
              "    </div>\n",
              "    "
            ]
          },
          "metadata": {}
        },
        {
          "output_type": "stream",
          "name": "stdout",
          "text": [
            "\n",
            "Misinformation F1: 96.84%\n",
            "Factual F1: 19.51%\n",
            "macro-average F1: 58.1772%\n",
            "\n",
            "              precision    recall  f1-score   support\n",
            "\n",
            "           0       0.21      0.18      0.20        22\n",
            "           1       0.97      0.97      0.97       521\n",
            "\n",
            "    accuracy                           0.94       543\n",
            "   macro avg       0.59      0.58      0.58       543\n",
            "weighted avg       0.94      0.94      0.94       543\n",
            "\n"
          ]
        }
      ]
    },
    {
      "cell_type": "markdown",
      "source": [
        "# Evaluation"
      ],
      "metadata": {
        "id": "2ykiznoaNWmn"
      }
    },
    {
      "cell_type": "code",
      "source": [
        "import pandas as pd \n",
        "train_df = pd.read_csv(\"/content/drive/MyDrive/mumin-classifier/data/train_en.csv\")\n",
        "val_df = pd.read_csv(\"/content/drive/MyDrive/mumin-classifier/data/val_en.csv\")\n",
        "test_df = pd.read_csv(\"/content/drive/MyDrive/mumin-classifier/data/test_en.csv\")"
      ],
      "metadata": {
        "id": "gqcGYB0nI6ab"
      },
      "execution_count": null,
      "outputs": []
    },
    {
      "cell_type": "code",
      "source": [
        "import matplotlib.pyplot as plt\n",
        "import seaborn as sns\n",
        "fig = plt.figure(figsize=(12,8))\n",
        "sns.histplot(test_df.lang);"
      ],
      "metadata": {
        "colab": {
          "base_uri": "https://localhost:8080/",
          "height": 497
        },
        "id": "QYEz7_ApI7ar",
        "outputId": "3144bb33-5af8-4a5c-c6a8-ff21e19eef90"
      },
      "execution_count": null,
      "outputs": [
        {
          "output_type": "display_data",
          "data": {
            "text/plain": [
              "<Figure size 864x576 with 1 Axes>"
            ],
            "image/png": "[encoded data removed]"
          },
          "metadata": {
            "needs_background": "light"
          }
        }
      ]
    },
    {
      "cell_type": "code",
      "source": [
        "langs = pd.concat([val_df, test_df])\n",
        "langs = langs.query(\"lang=='en' | lang=='pt' | lang=='es'| lang=='fr'| lang=='ar'\")"
      ],
      "metadata": {
        "id": "4jI7b70YKDJQ"
      },
      "execution_count": null,
      "outputs": []
    },
    {
      "cell_type": "code",
      "source": [
        "sns.histplot(langs.lang);"
      ],
      "metadata": {
        "colab": {
          "base_uri": "https://localhost:8080/",
          "height": 279
        },
        "id": "ka7oF4tjLVP2",
        "outputId": "497e483a-2aa5-461e-935d-7cfaf30e9545"
      },
      "execution_count": null,
      "outputs": [
        {
          "output_type": "display_data",
          "data": {
            "text/plain": [
              "<Figure size 432x288 with 1 Axes>"
            ],
            "image/png": "[encoded data removed]"
          },
          "metadata": {
            "needs_background": "light"
          }
        }
      ]
    },
    {
      "cell_type": "code",
      "source": [
        "from sklearn.dummy import DummyClassifier\n",
        "langs = pd.concat([val_df, test_df])\n",
        "langs = langs.query(\"lang=='en' | lang=='pt' | lang=='es'| lang=='fr'| lang=='ar'\")\n",
        "languages = ['en','pt','es','fr','ar']\n",
        "f1 = []\n",
        "randomf1 = []\n",
        "for lang in languages:\n",
        "  print(\"\\nLANG \", lang)\n",
        "  lang_data = langs.query(f\"lang=='{lang}'\")\n",
        "  test_data = tg_data.TGDataset(lang_data, tokenizer)\n",
        "  predictions = trainer.predict(test_data)\n",
        "  preds = np.argmax(predictions.predictions, axis=-1)\n",
        "\n",
        "  test_scores = f1_score(test_data.label_list, preds, average=None)\n",
        "\n",
        "  print(f'\\nMisinformation F1: {100 * test_scores[1]:.2f}%')\n",
        "  print(f'Factual F1: {100 * test_scores[0]:.2f}%')\n",
        "  print(f'macro-average F1: {100 * test_scores.mean():.4f}%\\n')\n",
        "  f1.append(100 * test_scores.mean())\n",
        "\n",
        "  model = DummyClassifier(strategy=\"most_frequent\")\n",
        "\n",
        "  lang_train_data = train_df.query(f\"lang=='{lang}'\")\n",
        "\n",
        "  model.fit(lang_train_data.text, lang_train_data.label)\n",
        "\n",
        "  test_preds = model.predict(lang_data.text)\n",
        "\n",
        "  test_scores = f1_score(lang_data.label, test_preds , average=None)\n",
        "\n",
        "  print(f'\\nMisinformation F1: {100 * test_scores[1]:.2f}%')\n",
        "  print(f'Factual F1: {100 * test_scores[0]:.2f}%')\n",
        "  print(f'macro-average F1: {100 * test_scores.mean():.4f}%\\n')\n",
        "  randomf1.append(100 * test_scores.mean())\n"
      ],
      "metadata": {
        "colab": {
          "base_uri": "https://localhost:8080/",
          "height": 1000
        },
        "id": "Fb-dGr9bNswY",
        "outputId": "e2a7b58a-b78e-40d0-98b1-a9cc3a39b048"
      },
      "execution_count": null,
      "outputs": [
        {
          "output_type": "stream",
          "name": "stdout",
          "text": [
            "\n",
            "LANG  en\n"
          ]
        },
        {
          "output_type": "stream",
          "name": "stderr",
          "text": [
            "***** Running Prediction *****\n",
            "  Num examples = 680\n",
            "  Batch size = 8\n"
          ]
        },
        {
          "output_type": "display_data",
          "data": {
            "text/plain": [
              "<IPython.core.display.HTML object>"
            ],
            "text/html": [
              "\n",
              "    <div>\n",
              "      \n",
              "      <progress value='484' max='85' style='width:300px; height:20px; vertical-align: middle;'></progress>\n",
              "      [85/85 15:52]\n",
              "    </div>\n",
              "    "
            ]
          },
          "metadata": {}
        },
        {
          "output_type": "stream",
          "name": "stderr",
          "text": [
            "***** Running Prediction *****\n",
            "  Num examples = 182\n",
            "  Batch size = 8\n"
          ]
        },
        {
          "output_type": "stream",
          "name": "stdout",
          "text": [
            "\n",
            "Misinformation F1: 93.59%\n",
            "Factual F1: 16.49%\n",
            "macro-average F1: 55.0408%\n",
            "\n",
            "\n",
            "Misinformation F1: 98.28%\n",
            "Factual F1: 0.00%\n",
            "macro-average F1: 49.1399%\n",
            "\n",
            "\n",
            "LANG  pt\n"
          ]
        },
        {
          "output_type": "stream",
          "name": "stderr",
          "text": [
            "***** Running Prediction *****\n",
            "  Num examples = 111\n",
            "  Batch size = 8\n"
          ]
        },
        {
          "output_type": "stream",
          "name": "stdout",
          "text": [
            "\n",
            "Misinformation F1: 96.59%\n",
            "Factual F1: 0.00%\n",
            "macro-average F1: 48.2955%\n",
            "\n",
            "\n",
            "Misinformation F1: 99.72%\n",
            "Factual F1: 0.00%\n",
            "macro-average F1: 49.8623%\n",
            "\n",
            "\n",
            "LANG  es\n"
          ]
        },
        {
          "output_type": "stream",
          "name": "stderr",
          "text": [
            "***** Running Prediction *****\n",
            "  Num examples = 66\n",
            "  Batch size = 8\n"
          ]
        },
        {
          "output_type": "stream",
          "name": "stdout",
          "text": [
            "\n",
            "Misinformation F1: 88.44%\n",
            "Factual F1: 0.00%\n",
            "macro-average F1: 44.2211%\n",
            "\n",
            "\n",
            "Misinformation F1: 99.09%\n",
            "Factual F1: 0.00%\n",
            "macro-average F1: 49.5455%\n",
            "\n",
            "\n",
            "LANG  fr\n"
          ]
        },
        {
          "output_type": "stream",
          "name": "stderr",
          "text": [
            "***** Running Prediction *****\n",
            "  Num examples = 38\n",
            "  Batch size = 8\n"
          ]
        },
        {
          "output_type": "stream",
          "name": "stdout",
          "text": [
            "\n",
            "Misinformation F1: 96.06%\n",
            "Factual F1: 0.00%\n",
            "macro-average F1: 48.0315%\n",
            "\n",
            "\n",
            "Misinformation F1: 99.24%\n",
            "Factual F1: 0.00%\n",
            "macro-average F1: 49.6183%\n",
            "\n",
            "\n",
            "LANG  ar\n",
            "\n",
            "Misinformation F1: 92.96%\n",
            "Factual F1: 0.00%\n",
            "macro-average F1: 46.4789%\n",
            "\n",
            "\n",
            "Misinformation F1: 98.67%\n",
            "Factual F1: 0.00%\n",
            "macro-average F1: 49.3333%\n",
            "\n"
          ]
        }
      ]
    },
    {
      "cell_type": "code",
      "source": [
        "sns.set_palette(\"summer\")\n",
        "sns.set_style(\"white\")\n",
        "sns.barplot(languages, f1)\n",
        "sns.lineplot(languages, sum(randomf1)/len(randomf1), c=\"r\")"
      ],
      "metadata": {
        "colab": {
          "base_uri": "https://localhost:8080/",
          "height": 438
        },
        "id": "OW3VQdoUShyG",
        "outputId": "b927bd87-42d9-4b14-9e81-fc712c9b82b9"
      },
      "execution_count": null,
      "outputs": [
        {
          "output_type": "stream",
          "name": "stderr",
          "text": [
            "/usr/local/lib/python3.7/dist-packages/seaborn/_decorators.py:43: FutureWarning: Pass the following variables as keyword args: x, y. From version 0.12, the only valid positional argument will be `data`, and passing other arguments without an explicit keyword will result in an error or misinterpretation.\n",
            "  FutureWarning\n",
            "/usr/local/lib/python3.7/dist-packages/seaborn/_decorators.py:43: FutureWarning: Pass the following variables as keyword args: x, y. From version 0.12, the only valid positional argument will be `data`, and passing other arguments without an explicit keyword will result in an error or misinterpretation.\n",
            "  FutureWarning\n",
            "/usr/local/lib/python3.7/dist-packages/seaborn/relational.py:514: MatplotlibDeprecationWarning: Saw kwargs ['c', 'color'] which are all aliases for 'color'.  Kept value from 'color'.  Passing multiple aliases for the same property will raise a TypeError in 3.3.\n",
            "  line, = ax.plot([], [], **kws)\n",
            "/usr/local/lib/python3.7/dist-packages/seaborn/relational.py:529: MatplotlibDeprecationWarning: Saw kwargs ['c', 'color'] which are all aliases for 'color'.  Kept value from 'color'.  Passing multiple aliases for the same property will raise a TypeError in 3.3.\n",
            "  line, = ax.plot(x, y, **kws)\n"
          ]
        },
        {
          "output_type": "execute_result",
          "data": {
            "text/plain": [
              "<matplotlib.axes._subplots.AxesSubplot at 0x7fd5418c9950>"
            ]
          },
          "metadata": {},
          "execution_count": 71
        },
        {
          "output_type": "display_data",
          "data": {
            "text/plain": [
              "<Figure size 432x288 with 1 Axes>"
            ],
            "image/png": "[encoded data removed]"
          },
          "metadata": {}
        }
      ]
    },
    {
      "cell_type": "code",
      "source": [
        "randomf1"
      ],
      "metadata": {
        "id": "I3ls_XtCbRbN"
      },
      "execution_count": null,
      "outputs": []
    }
  ]
}