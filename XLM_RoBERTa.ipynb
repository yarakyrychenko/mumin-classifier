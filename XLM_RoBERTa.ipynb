{
  "nbformat": 4,
  "nbformat_minor": 0,
  "metadata": {
    "colab": {
      "name": "XLM RoBERTa.ipynb",
      "provenance": [],
      "collapsed_sections": []
    },
    "kernelspec": {
      "name": "python3",
      "display_name": "Python 3"
    },
    "language_info": {
      "name": "python"
    },
    "accelerator": "GPU",
    "widgets": {
      "application/vnd.jupyter.widget-state+json": {
        "4bf4efe38852415c8ca838069d37cf6f": {
          "model_module": "@jupyter-widgets/controls",
          "model_name": "HBoxModel",
          "model_module_version": "1.5.0",
          "state": {
            "_dom_classes": [],
            "_model_module": "@jupyter-widgets/controls",
            "_model_module_version": "1.5.0",
            "_model_name": "HBoxModel",
            "_view_count": null,
            "_view_module": "@jupyter-widgets/controls",
            "_view_module_version": "1.5.0",
            "_view_name": "HBoxView",
            "box_style": "",
            "children": [
              "IPY_MODEL_b02e029bb8ed41599f10b6a704a7e874",
              "IPY_MODEL_65e6acb5215b41b8966a7b39a2b67137",
              "IPY_MODEL_bdae83ae9acf451b886fa6ef4ca5c6fc"
            ],
            "layout": "IPY_MODEL_b5b99fc4d3dc4cd5ab3806dbf11101b8"
          }
        },
        "b02e029bb8ed41599f10b6a704a7e874": {
          "model_module": "@jupyter-widgets/controls",
          "model_name": "HTMLModel",
          "model_module_version": "1.5.0",
          "state": {
            "_dom_classes": [],
            "_model_module": "@jupyter-widgets/controls",
            "_model_module_version": "1.5.0",
            "_model_name": "HTMLModel",
            "_view_count": null,
            "_view_module": "@jupyter-widgets/controls",
            "_view_module_version": "1.5.0",
            "_view_name": "HTMLView",
            "description": "",
            "description_tooltip": null,
            "layout": "IPY_MODEL_636be5c333e74118aaf2d82b96e76ecc",
            "placeholder": "​",
            "style": "IPY_MODEL_ff185996ea9948bf800761421b963d82",
            "value": "Downloading: 100%"
          }
        },
        "65e6acb5215b41b8966a7b39a2b67137": {
          "model_module": "@jupyter-widgets/controls",
          "model_name": "FloatProgressModel",
          "model_module_version": "1.5.0",
          "state": {
            "_dom_classes": [],
            "_model_module": "@jupyter-widgets/controls",
            "_model_module_version": "1.5.0",
            "_model_name": "FloatProgressModel",
            "_view_count": null,
            "_view_module": "@jupyter-widgets/controls",
            "_view_module_version": "1.5.0",
            "_view_name": "ProgressView",
            "bar_style": "success",
            "description": "",
            "description_tooltip": null,
            "layout": "IPY_MODEL_26ef64678b6545a98816c5e09bff1a60",
            "max": 5069051,
            "min": 0,
            "orientation": "horizontal",
            "style": "IPY_MODEL_7fb5cbd35b764c6da23d4f05e804daf9",
            "value": 5069051
          }
        },
        "bdae83ae9acf451b886fa6ef4ca5c6fc": {
          "model_module": "@jupyter-widgets/controls",
          "model_name": "HTMLModel",
          "model_module_version": "1.5.0",
          "state": {
            "_dom_classes": [],
            "_model_module": "@jupyter-widgets/controls",
            "_model_module_version": "1.5.0",
            "_model_name": "HTMLModel",
            "_view_count": null,
            "_view_module": "@jupyter-widgets/controls",
            "_view_module_version": "1.5.0",
            "_view_name": "HTMLView",
            "description": "",
            "description_tooltip": null,
            "layout": "IPY_MODEL_7c459aa1ebef41e989a412761f842a90",
            "placeholder": "​",
            "style": "IPY_MODEL_6fa4808966d24be18547897c03d0121f",
            "value": " 4.83M/4.83M [00:00&lt;00:00, 8.53MB/s]"
          }
        },
        "b5b99fc4d3dc4cd5ab3806dbf11101b8": {
          "model_module": "@jupyter-widgets/base",
          "model_name": "LayoutModel",
          "model_module_version": "1.2.0",
          "state": {
            "_model_module": "@jupyter-widgets/base",
            "_model_module_version": "1.2.0",
            "_model_name": "LayoutModel",
            "_view_count": null,
            "_view_module": "@jupyter-widgets/base",
            "_view_module_version": "1.2.0",
            "_view_name": "LayoutView",
            "align_content": null,
            "align_items": null,
            "align_self": null,
            "border": null,
            "bottom": null,
            "display": null,
            "flex": null,
            "flex_flow": null,
            "grid_area": null,
            "grid_auto_columns": null,
            "grid_auto_flow": null,
            "grid_auto_rows": null,
            "grid_column": null,
            "grid_gap": null,
            "grid_row": null,
            "grid_template_areas": null,
            "grid_template_columns": null,
            "grid_template_rows": null,
            "height": null,
            "justify_content": null,
            "justify_items": null,
            "left": null,
            "margin": null,
            "max_height": null,
            "max_width": null,
            "min_height": null,
            "min_width": null,
            "object_fit": null,
            "object_position": null,
            "order": null,
            "overflow": null,
            "overflow_x": null,
            "overflow_y": null,
            "padding": null,
            "right": null,
            "top": null,
            "visibility": null,
            "width": null
          }
        },
        "636be5c333e74118aaf2d82b96e76ecc": {
          "model_module": "@jupyter-widgets/base",
          "model_name": "LayoutModel",
          "model_module_version": "1.2.0",
          "state": {
            "_model_module": "@jupyter-widgets/base",
            "_model_module_version": "1.2.0",
            "_model_name": "LayoutModel",
            "_view_count": null,
            "_view_module": "@jupyter-widgets/base",
            "_view_module_version": "1.2.0",
            "_view_name": "LayoutView",
            "align_content": null,
            "align_items": null,
            "align_self": null,
            "border": null,
            "bottom": null,
            "display": null,
            "flex": null,
            "flex_flow": null,
            "grid_area": null,
            "grid_auto_columns": null,
            "grid_auto_flow": null,
            "grid_auto_rows": null,
            "grid_column": null,
            "grid_gap": null,
            "grid_row": null,
            "grid_template_areas": null,
            "grid_template_columns": null,
            "grid_template_rows": null,
            "height": null,
            "justify_content": null,
            "justify_items": null,
            "left": null,
            "margin": null,
            "max_height": null,
            "max_width": null,
            "min_height": null,
            "min_width": null,
            "object_fit": null,
            "object_position": null,
            "order": null,
            "overflow": null,
            "overflow_x": null,
            "overflow_y": null,
            "padding": null,
            "right": null,
            "top": null,
            "visibility": null,
            "width": null
          }
        },
        "ff185996ea9948bf800761421b963d82": {
          "model_module": "@jupyter-widgets/controls",
          "model_name": "DescriptionStyleModel",
          "model_module_version": "1.5.0",
          "state": {
            "_model_module": "@jupyter-widgets/controls",
            "_model_module_version": "1.5.0",
            "_model_name": "DescriptionStyleModel",
            "_view_count": null,
            "_view_module": "@jupyter-widgets/base",
            "_view_module_version": "1.2.0",
            "_view_name": "StyleView",
            "description_width": ""
          }
        },
        "26ef64678b6545a98816c5e09bff1a60": {
          "model_module": "@jupyter-widgets/base",
          "model_name": "LayoutModel",
          "model_module_version": "1.2.0",
          "state": {
            "_model_module": "@jupyter-widgets/base",
            "_model_module_version": "1.2.0",
            "_model_name": "LayoutModel",
            "_view_count": null,
            "_view_module": "@jupyter-widgets/base",
            "_view_module_version": "1.2.0",
            "_view_name": "LayoutView",
            "align_content": null,
            "align_items": null,
            "align_self": null,
            "border": null,
            "bottom": null,
            "display": null,
            "flex": null,
            "flex_flow": null,
            "grid_area": null,
            "grid_auto_columns": null,
            "grid_auto_flow": null,
            "grid_auto_rows": null,
            "grid_column": null,
            "grid_gap": null,
            "grid_row": null,
            "grid_template_areas": null,
            "grid_template_columns": null,
            "grid_template_rows": null,
            "height": null,
            "justify_content": null,
            "justify_items": null,
            "left": null,
            "margin": null,
            "max_height": null,
            "max_width": null,
            "min_height": null,
            "min_width": null,
            "object_fit": null,
            "object_position": null,
            "order": null,
            "overflow": null,
            "overflow_x": null,
            "overflow_y": null,
            "padding": null,
            "right": null,
            "top": null,
            "visibility": null,
            "width": null
          }
        },
        "7fb5cbd35b764c6da23d4f05e804daf9": {
          "model_module": "@jupyter-widgets/controls",
          "model_name": "ProgressStyleModel",
          "model_module_version": "1.5.0",
          "state": {
            "_model_module": "@jupyter-widgets/controls",
            "_model_module_version": "1.5.0",
            "_model_name": "ProgressStyleModel",
            "_view_count": null,
            "_view_module": "@jupyter-widgets/base",
            "_view_module_version": "1.2.0",
            "_view_name": "StyleView",
            "bar_color": null,
            "description_width": ""
          }
        },
        "7c459aa1ebef41e989a412761f842a90": {
          "model_module": "@jupyter-widgets/base",
          "model_name": "LayoutModel",
          "model_module_version": "1.2.0",
          "state": {
            "_model_module": "@jupyter-widgets/base",
            "_model_module_version": "1.2.0",
            "_model_name": "LayoutModel",
            "_view_count": null,
            "_view_module": "@jupyter-widgets/base",
            "_view_module_version": "1.2.0",
            "_view_name": "LayoutView",
            "align_content": null,
            "align_items": null,
            "align_self": null,
            "border": null,
            "bottom": null,
            "display": null,
            "flex": null,
            "flex_flow": null,
            "grid_area": null,
            "grid_auto_columns": null,
            "grid_auto_flow": null,
            "grid_auto_rows": null,
            "grid_column": null,
            "grid_gap": null,
            "grid_row": null,
            "grid_template_areas": null,
            "grid_template_columns": null,
            "grid_template_rows": null,
            "height": null,
            "justify_content": null,
            "justify_items": null,
            "left": null,
            "margin": null,
            "max_height": null,
            "max_width": null,
            "min_height": null,
            "min_width": null,
            "object_fit": null,
            "object_position": null,
            "order": null,
            "overflow": null,
            "overflow_x": null,
            "overflow_y": null,
            "padding": null,
            "right": null,
            "top": null,
            "visibility": null,
            "width": null
          }
        },
        "6fa4808966d24be18547897c03d0121f": {
          "model_module": "@jupyter-widgets/controls",
          "model_name": "DescriptionStyleModel",
          "model_module_version": "1.5.0",
          "state": {
            "_model_module": "@jupyter-widgets/controls",
            "_model_module_version": "1.5.0",
            "_model_name": "DescriptionStyleModel",
            "_view_count": null,
            "_view_module": "@jupyter-widgets/base",
            "_view_module_version": "1.2.0",
            "_view_name": "StyleView",
            "description_width": ""
          }
        },
        "99ace7e7eab344128d09354d4d4e283b": {
          "model_module": "@jupyter-widgets/controls",
          "model_name": "HBoxModel",
          "model_module_version": "1.5.0",
          "state": {
            "_dom_classes": [],
            "_model_module": "@jupyter-widgets/controls",
            "_model_module_version": "1.5.0",
            "_model_name": "HBoxModel",
            "_view_count": null,
            "_view_module": "@jupyter-widgets/controls",
            "_view_module_version": "1.5.0",
            "_view_name": "HBoxView",
            "box_style": "",
            "children": [
              "IPY_MODEL_1186cbfa54c649248595f3918d4dce77",
              "IPY_MODEL_3c9dbc2bb79c4f3a9dae7f653077486f",
              "IPY_MODEL_fc247d4e37f84e5893395a16cb550f55"
            ],
            "layout": "IPY_MODEL_609b4ffc3bb54d919dba631fada7dc4c"
          }
        },
        "1186cbfa54c649248595f3918d4dce77": {
          "model_module": "@jupyter-widgets/controls",
          "model_name": "HTMLModel",
          "model_module_version": "1.5.0",
          "state": {
            "_dom_classes": [],
            "_model_module": "@jupyter-widgets/controls",
            "_model_module_version": "1.5.0",
            "_model_name": "HTMLModel",
            "_view_count": null,
            "_view_module": "@jupyter-widgets/controls",
            "_view_module_version": "1.5.0",
            "_view_name": "HTMLView",
            "description": "",
            "description_tooltip": null,
            "layout": "IPY_MODEL_c210f3331d4447d9a5c845250acd6000",
            "placeholder": "​",
            "style": "IPY_MODEL_161701d4dc24464eb2031a59fdf218af",
            "value": "Downloading: 100%"
          }
        },
        "3c9dbc2bb79c4f3a9dae7f653077486f": {
          "model_module": "@jupyter-widgets/controls",
          "model_name": "FloatProgressModel",
          "model_module_version": "1.5.0",
          "state": {
            "_dom_classes": [],
            "_model_module": "@jupyter-widgets/controls",
            "_model_module_version": "1.5.0",
            "_model_name": "FloatProgressModel",
            "_view_count": null,
            "_view_module": "@jupyter-widgets/controls",
            "_view_module_version": "1.5.0",
            "_view_name": "ProgressView",
            "bar_style": "success",
            "description": "",
            "description_tooltip": null,
            "layout": "IPY_MODEL_6baecc492db64e7380965b9fdc30ce47",
            "max": 615,
            "min": 0,
            "orientation": "horizontal",
            "style": "IPY_MODEL_8b22a7cb7fc446fc82bad4a426fba931",
            "value": 615
          }
        },
        "fc247d4e37f84e5893395a16cb550f55": {
          "model_module": "@jupyter-widgets/controls",
          "model_name": "HTMLModel",
          "model_module_version": "1.5.0",
          "state": {
            "_dom_classes": [],
            "_model_module": "@jupyter-widgets/controls",
            "_model_module_version": "1.5.0",
            "_model_name": "HTMLModel",
            "_view_count": null,
            "_view_module": "@jupyter-widgets/controls",
            "_view_module_version": "1.5.0",
            "_view_name": "HTMLView",
            "description": "",
            "description_tooltip": null,
            "layout": "IPY_MODEL_bcee9927a3a440c099704c10edbe07a4",
            "placeholder": "​",
            "style": "IPY_MODEL_db1e59d828e549c9bd9a9737b5d2f6cd",
            "value": " 615/615 [00:00&lt;00:00, 18.0kB/s]"
          }
        },
        "609b4ffc3bb54d919dba631fada7dc4c": {
          "model_module": "@jupyter-widgets/base",
          "model_name": "LayoutModel",
          "model_module_version": "1.2.0",
          "state": {
            "_model_module": "@jupyter-widgets/base",
            "_model_module_version": "1.2.0",
            "_model_name": "LayoutModel",
            "_view_count": null,
            "_view_module": "@jupyter-widgets/base",
            "_view_module_version": "1.2.0",
            "_view_name": "LayoutView",
            "align_content": null,
            "align_items": null,
            "align_self": null,
            "border": null,
            "bottom": null,
            "display": null,
            "flex": null,
            "flex_flow": null,
            "grid_area": null,
            "grid_auto_columns": null,
            "grid_auto_flow": null,
            "grid_auto_rows": null,
            "grid_column": null,
            "grid_gap": null,
            "grid_row": null,
            "grid_template_areas": null,
            "grid_template_columns": null,
            "grid_template_rows": null,
            "height": null,
            "justify_content": null,
            "justify_items": null,
            "left": null,
            "margin": null,
            "max_height": null,
            "max_width": null,
            "min_height": null,
            "min_width": null,
            "object_fit": null,
            "object_position": null,
            "order": null,
            "overflow": null,
            "overflow_x": null,
            "overflow_y": null,
            "padding": null,
            "right": null,
            "top": null,
            "visibility": null,
            "width": null
          }
        },
        "c210f3331d4447d9a5c845250acd6000": {
          "model_module": "@jupyter-widgets/base",
          "model_name": "LayoutModel",
          "model_module_version": "1.2.0",
          "state": {
            "_model_module": "@jupyter-widgets/base",
            "_model_module_version": "1.2.0",
            "_model_name": "LayoutModel",
            "_view_count": null,
            "_view_module": "@jupyter-widgets/base",
            "_view_module_version": "1.2.0",
            "_view_name": "LayoutView",
            "align_content": null,
            "align_items": null,
            "align_self": null,
            "border": null,
            "bottom": null,
            "display": null,
            "flex": null,
            "flex_flow": null,
            "grid_area": null,
            "grid_auto_columns": null,
            "grid_auto_flow": null,
            "grid_auto_rows": null,
            "grid_column": null,
            "grid_gap": null,
            "grid_row": null,
            "grid_template_areas": null,
            "grid_template_columns": null,
            "grid_template_rows": null,
            "height": null,
            "justify_content": null,
            "justify_items": null,
            "left": null,
            "margin": null,
            "max_height": null,
            "max_width": null,
            "min_height": null,
            "min_width": null,
            "object_fit": null,
            "object_position": null,
            "order": null,
            "overflow": null,
            "overflow_x": null,
            "overflow_y": null,
            "padding": null,
            "right": null,
            "top": null,
            "visibility": null,
            "width": null
          }
        },
        "161701d4dc24464eb2031a59fdf218af": {
          "model_module": "@jupyter-widgets/controls",
          "model_name": "DescriptionStyleModel",
          "model_module_version": "1.5.0",
          "state": {
            "_model_module": "@jupyter-widgets/controls",
            "_model_module_version": "1.5.0",
            "_model_name": "DescriptionStyleModel",
            "_view_count": null,
            "_view_module": "@jupyter-widgets/base",
            "_view_module_version": "1.2.0",
            "_view_name": "StyleView",
            "description_width": ""
          }
        },
        "6baecc492db64e7380965b9fdc30ce47": {
          "model_module": "@jupyter-widgets/base",
          "model_name": "LayoutModel",
          "model_module_version": "1.2.0",
          "state": {
            "_model_module": "@jupyter-widgets/base",
            "_model_module_version": "1.2.0",
            "_model_name": "LayoutModel",
            "_view_count": null,
            "_view_module": "@jupyter-widgets/base",
            "_view_module_version": "1.2.0",
            "_view_name": "LayoutView",
            "align_content": null,
            "align_items": null,
            "align_self": null,
            "border": null,
            "bottom": null,
            "display": null,
            "flex": null,
            "flex_flow": null,
            "grid_area": null,
            "grid_auto_columns": null,
            "grid_auto_flow": null,
            "grid_auto_rows": null,
            "grid_column": null,
            "grid_gap": null,
            "grid_row": null,
            "grid_template_areas": null,
            "grid_template_columns": null,
            "grid_template_rows": null,
            "height": null,
            "justify_content": null,
            "justify_items": null,
            "left": null,
            "margin": null,
            "max_height": null,
            "max_width": null,
            "min_height": null,
            "min_width": null,
            "object_fit": null,
            "object_position": null,
            "order": null,
            "overflow": null,
            "overflow_x": null,
            "overflow_y": null,
            "padding": null,
            "right": null,
            "top": null,
            "visibility": null,
            "width": null
          }
        },
        "8b22a7cb7fc446fc82bad4a426fba931": {
          "model_module": "@jupyter-widgets/controls",
          "model_name": "ProgressStyleModel",
          "model_module_version": "1.5.0",
          "state": {
            "_model_module": "@jupyter-widgets/controls",
            "_model_module_version": "1.5.0",
            "_model_name": "ProgressStyleModel",
            "_view_count": null,
            "_view_module": "@jupyter-widgets/base",
            "_view_module_version": "1.2.0",
            "_view_name": "StyleView",
            "bar_color": null,
            "description_width": ""
          }
        },
        "bcee9927a3a440c099704c10edbe07a4": {
          "model_module": "@jupyter-widgets/base",
          "model_name": "LayoutModel",
          "model_module_version": "1.2.0",
          "state": {
            "_model_module": "@jupyter-widgets/base",
            "_model_module_version": "1.2.0",
            "_model_name": "LayoutModel",
            "_view_count": null,
            "_view_module": "@jupyter-widgets/base",
            "_view_module_version": "1.2.0",
            "_view_name": "LayoutView",
            "align_content": null,
            "align_items": null,
            "align_self": null,
            "border": null,
            "bottom": null,
            "display": null,
            "flex": null,
            "flex_flow": null,
            "grid_area": null,
            "grid_auto_columns": null,
            "grid_auto_flow": null,
            "grid_auto_rows": null,
            "grid_column": null,
            "grid_gap": null,
            "grid_row": null,
            "grid_template_areas": null,
            "grid_template_columns": null,
            "grid_template_rows": null,
            "height": null,
            "justify_content": null,
            "justify_items": null,
            "left": null,
            "margin": null,
            "max_height": null,
            "max_width": null,
            "min_height": null,
            "min_width": null,
            "object_fit": null,
            "object_position": null,
            "order": null,
            "overflow": null,
            "overflow_x": null,
            "overflow_y": null,
            "padding": null,
            "right": null,
            "top": null,
            "visibility": null,
            "width": null
          }
        },
        "db1e59d828e549c9bd9a9737b5d2f6cd": {
          "model_module": "@jupyter-widgets/controls",
          "model_name": "DescriptionStyleModel",
          "model_module_version": "1.5.0",
          "state": {
            "_model_module": "@jupyter-widgets/controls",
            "_model_module_version": "1.5.0",
            "_model_name": "DescriptionStyleModel",
            "_view_count": null,
            "_view_module": "@jupyter-widgets/base",
            "_view_module_version": "1.2.0",
            "_view_name": "StyleView",
            "description_width": ""
          }
        },
        "bf227669e8684f609cf6a5cbb361925b": {
          "model_module": "@jupyter-widgets/controls",
          "model_name": "HBoxModel",
          "model_module_version": "1.5.0",
          "state": {
            "_dom_classes": [],
            "_model_module": "@jupyter-widgets/controls",
            "_model_module_version": "1.5.0",
            "_model_name": "HBoxModel",
            "_view_count": null,
            "_view_module": "@jupyter-widgets/controls",
            "_view_module_version": "1.5.0",
            "_view_name": "HBoxView",
            "box_style": "",
            "children": [
              "IPY_MODEL_c468a24e89fd4bb0ac8f58a48ffdc9ec",
              "IPY_MODEL_6bbb46b92e2643a9b70a970737cdcfdf",
              "IPY_MODEL_65f527fb99eb489698985e3ec01a6e8b"
            ],
            "layout": "IPY_MODEL_3df920a8ea674d79884bdea046f22ecc"
          }
        },
        "c468a24e89fd4bb0ac8f58a48ffdc9ec": {
          "model_module": "@jupyter-widgets/controls",
          "model_name": "HTMLModel",
          "model_module_version": "1.5.0",
          "state": {
            "_dom_classes": [],
            "_model_module": "@jupyter-widgets/controls",
            "_model_module_version": "1.5.0",
            "_model_name": "HTMLModel",
            "_view_count": null,
            "_view_module": "@jupyter-widgets/controls",
            "_view_module_version": "1.5.0",
            "_view_name": "HTMLView",
            "description": "",
            "description_tooltip": null,
            "layout": "IPY_MODEL_fc5584076d2c410c8144014dae644676",
            "placeholder": "​",
            "style": "IPY_MODEL_7130e0340dc04bc1a683b083245205ab",
            "value": "Downloading: 100%"
          }
        },
        "6bbb46b92e2643a9b70a970737cdcfdf": {
          "model_module": "@jupyter-widgets/controls",
          "model_name": "FloatProgressModel",
          "model_module_version": "1.5.0",
          "state": {
            "_dom_classes": [],
            "_model_module": "@jupyter-widgets/controls",
            "_model_module_version": "1.5.0",
            "_model_name": "FloatProgressModel",
            "_view_count": null,
            "_view_module": "@jupyter-widgets/controls",
            "_view_module_version": "1.5.0",
            "_view_name": "ProgressView",
            "bar_style": "success",
            "description": "",
            "description_tooltip": null,
            "layout": "IPY_MODEL_05d7a46eb0444b7da5ddcc0201d70b16",
            "max": 1115590446,
            "min": 0,
            "orientation": "horizontal",
            "style": "IPY_MODEL_8583b22bc7de424d965eba5c3001c577",
            "value": 1115590446
          }
        },
        "65f527fb99eb489698985e3ec01a6e8b": {
          "model_module": "@jupyter-widgets/controls",
          "model_name": "HTMLModel",
          "model_module_version": "1.5.0",
          "state": {
            "_dom_classes": [],
            "_model_module": "@jupyter-widgets/controls",
            "_model_module_version": "1.5.0",
            "_model_name": "HTMLModel",
            "_view_count": null,
            "_view_module": "@jupyter-widgets/controls",
            "_view_module_version": "1.5.0",
            "_view_name": "HTMLView",
            "description": "",
            "description_tooltip": null,
            "layout": "IPY_MODEL_e26cb0fc0e694f1d9af3c17216b1e896",
            "placeholder": "​",
            "style": "IPY_MODEL_18aa8ede475147c98487703a706785a3",
            "value": " 1.04G/1.04G [01:10&lt;00:00, 19.5MB/s]"
          }
        },
        "3df920a8ea674d79884bdea046f22ecc": {
          "model_module": "@jupyter-widgets/base",
          "model_name": "LayoutModel",
          "model_module_version": "1.2.0",
          "state": {
            "_model_module": "@jupyter-widgets/base",
            "_model_module_version": "1.2.0",
            "_model_name": "LayoutModel",
            "_view_count": null,
            "_view_module": "@jupyter-widgets/base",
            "_view_module_version": "1.2.0",
            "_view_name": "LayoutView",
            "align_content": null,
            "align_items": null,
            "align_self": null,
            "border": null,
            "bottom": null,
            "display": null,
            "flex": null,
            "flex_flow": null,
            "grid_area": null,
            "grid_auto_columns": null,
            "grid_auto_flow": null,
            "grid_auto_rows": null,
            "grid_column": null,
            "grid_gap": null,
            "grid_row": null,
            "grid_template_areas": null,
            "grid_template_columns": null,
            "grid_template_rows": null,
            "height": null,
            "justify_content": null,
            "justify_items": null,
            "left": null,
            "margin": null,
            "max_height": null,
            "max_width": null,
            "min_height": null,
            "min_width": null,
            "object_fit": null,
            "object_position": null,
            "order": null,
            "overflow": null,
            "overflow_x": null,
            "overflow_y": null,
            "padding": null,
            "right": null,
            "top": null,
            "visibility": null,
            "width": null
          }
        },
        "fc5584076d2c410c8144014dae644676": {
          "model_module": "@jupyter-widgets/base",
          "model_name": "LayoutModel",
          "model_module_version": "1.2.0",
          "state": {
            "_model_module": "@jupyter-widgets/base",
            "_model_module_version": "1.2.0",
            "_model_name": "LayoutModel",
            "_view_count": null,
            "_view_module": "@jupyter-widgets/base",
            "_view_module_version": "1.2.0",
            "_view_name": "LayoutView",
            "align_content": null,
            "align_items": null,
            "align_self": null,
            "border": null,
            "bottom": null,
            "display": null,
            "flex": null,
            "flex_flow": null,
            "grid_area": null,
            "grid_auto_columns": null,
            "grid_auto_flow": null,
            "grid_auto_rows": null,
            "grid_column": null,
            "grid_gap": null,
            "grid_row": null,
            "grid_template_areas": null,
            "grid_template_columns": null,
            "grid_template_rows": null,
            "height": null,
            "justify_content": null,
            "justify_items": null,
            "left": null,
            "margin": null,
            "max_height": null,
            "max_width": null,
            "min_height": null,
            "min_width": null,
            "object_fit": null,
            "object_position": null,
            "order": null,
            "overflow": null,
            "overflow_x": null,
            "overflow_y": null,
            "padding": null,
            "right": null,
            "top": null,
            "visibility": null,
            "width": null
          }
        },
        "7130e0340dc04bc1a683b083245205ab": {
          "model_module": "@jupyter-widgets/controls",
          "model_name": "DescriptionStyleModel",
          "model_module_version": "1.5.0",
          "state": {
            "_model_module": "@jupyter-widgets/controls",
            "_model_module_version": "1.5.0",
            "_model_name": "DescriptionStyleModel",
            "_view_count": null,
            "_view_module": "@jupyter-widgets/base",
            "_view_module_version": "1.2.0",
            "_view_name": "StyleView",
            "description_width": ""
          }
        },
        "05d7a46eb0444b7da5ddcc0201d70b16": {
          "model_module": "@jupyter-widgets/base",
          "model_name": "LayoutModel",
          "model_module_version": "1.2.0",
          "state": {
            "_model_module": "@jupyter-widgets/base",
            "_model_module_version": "1.2.0",
            "_model_name": "LayoutModel",
            "_view_count": null,
            "_view_module": "@jupyter-widgets/base",
            "_view_module_version": "1.2.0",
            "_view_name": "LayoutView",
            "align_content": null,
            "align_items": null,
            "align_self": null,
            "border": null,
            "bottom": null,
            "display": null,
            "flex": null,
            "flex_flow": null,
            "grid_area": null,
            "grid_auto_columns": null,
            "grid_auto_flow": null,
            "grid_auto_rows": null,
            "grid_column": null,
            "grid_gap": null,
            "grid_row": null,
            "grid_template_areas": null,
            "grid_template_columns": null,
            "grid_template_rows": null,
            "height": null,
            "justify_content": null,
            "justify_items": null,
            "left": null,
            "margin": null,
            "max_height": null,
            "max_width": null,
            "min_height": null,
            "min_width": null,
            "object_fit": null,
            "object_position": null,
            "order": null,
            "overflow": null,
            "overflow_x": null,
            "overflow_y": null,
            "padding": null,
            "right": null,
            "top": null,
            "visibility": null,
            "width": null
          }
        },
        "8583b22bc7de424d965eba5c3001c577": {
          "model_module": "@jupyter-widgets/controls",
          "model_name": "ProgressStyleModel",
          "model_module_version": "1.5.0",
          "state": {
            "_model_module": "@jupyter-widgets/controls",
            "_model_module_version": "1.5.0",
            "_model_name": "ProgressStyleModel",
            "_view_count": null,
            "_view_module": "@jupyter-widgets/base",
            "_view_module_version": "1.2.0",
            "_view_name": "StyleView",
            "bar_color": null,
            "description_width": ""
          }
        },
        "e26cb0fc0e694f1d9af3c17216b1e896": {
          "model_module": "@jupyter-widgets/base",
          "model_name": "LayoutModel",
          "model_module_version": "1.2.0",
          "state": {
            "_model_module": "@jupyter-widgets/base",
            "_model_module_version": "1.2.0",
            "_model_name": "LayoutModel",
            "_view_count": null,
            "_view_module": "@jupyter-widgets/base",
            "_view_module_version": "1.2.0",
            "_view_name": "LayoutView",
            "align_content": null,
            "align_items": null,
            "align_self": null,
            "border": null,
            "bottom": null,
            "display": null,
            "flex": null,
            "flex_flow": null,
            "grid_area": null,
            "grid_auto_columns": null,
            "grid_auto_flow": null,
            "grid_auto_rows": null,
            "grid_column": null,
            "grid_gap": null,
            "grid_row": null,
            "grid_template_areas": null,
            "grid_template_columns": null,
            "grid_template_rows": null,
            "height": null,
            "justify_content": null,
            "justify_items": null,
            "left": null,
            "margin": null,
            "max_height": null,
            "max_width": null,
            "min_height": null,
            "min_width": null,
            "object_fit": null,
            "object_position": null,
            "order": null,
            "overflow": null,
            "overflow_x": null,
            "overflow_y": null,
            "padding": null,
            "right": null,
            "top": null,
            "visibility": null,
            "width": null
          }
        },
        "18aa8ede475147c98487703a706785a3": {
          "model_module": "@jupyter-widgets/controls",
          "model_name": "DescriptionStyleModel",
          "model_module_version": "1.5.0",
          "state": {
            "_model_module": "@jupyter-widgets/controls",
            "_model_module_version": "1.5.0",
            "_model_name": "DescriptionStyleModel",
            "_view_count": null,
            "_view_module": "@jupyter-widgets/base",
            "_view_module_version": "1.2.0",
            "_view_name": "StyleView",
            "description_width": ""
          }
        }
      }
    }
  },
  "cells": [
    {
      "cell_type": "markdown",
      "source": [
        "# Set Up"
      ],
      "metadata": {
        "id": "QHQC7KaXTSjX"
      }
    },
    {
      "cell_type": "code",
      "source": [
        "from google.colab import files\n",
        "from google.colab import drive\n",
        "drive.mount('/content/drive')"
      ],
      "metadata": {
        "id": "MwxpSLkJ_yep",
        "colab": {
          "base_uri": "https://localhost:8080/"
        },
        "outputId": "9996ed41-b814-4d64-c45b-ad33115b6b1d"
      },
      "execution_count": null,
      "outputs": [
        {
          "output_type": "stream",
          "name": "stdout",
          "text": [
            "Mounted at /content/drive\n"
          ]
        }
      ]
    },
    {
      "cell_type": "code",
      "source": [
        "!pip install sentencepiece\n",
        "!pip install transformers"
      ],
      "metadata": {
        "colab": {
          "base_uri": "https://localhost:8080/"
        },
        "id": "wo9Pwa5A5TrS",
        "outputId": "090fcdbe-02bb-4397-ca18-a2621f846f17"
      },
      "execution_count": null,
      "outputs": [
        {
          "output_type": "stream",
          "name": "stdout",
          "text": [
            "Collecting sentencepiece\n",
            "  Downloading sentencepiece-0.1.96-cp37-cp37m-manylinux_2_17_x86_64.manylinux2014_x86_64.whl (1.2 MB)\n",
            "\u001b[?25l\r\u001b[K     |▎                               | 10 kB 28.3 MB/s eta 0:00:01\r\u001b[K     |▌                               | 20 kB 19.1 MB/s eta 0:00:01\r\u001b[K     |▉                               | 30 kB 15.2 MB/s eta 0:00:01\r\u001b[K     |█                               | 40 kB 13.9 MB/s eta 0:00:01\r\u001b[K     |█▍                              | 51 kB 7.0 MB/s eta 0:00:01\r\u001b[K     |█▋                              | 61 kB 8.3 MB/s eta 0:00:01\r\u001b[K     |██                              | 71 kB 7.4 MB/s eta 0:00:01\r\u001b[K     |██▏                             | 81 kB 8.3 MB/s eta 0:00:01\r\u001b[K     |██▍                             | 92 kB 9.2 MB/s eta 0:00:01\r\u001b[K     |██▊                             | 102 kB 7.9 MB/s eta 0:00:01\r\u001b[K     |███                             | 112 kB 7.9 MB/s eta 0:00:01\r\u001b[K     |███▎                            | 122 kB 7.9 MB/s eta 0:00:01\r\u001b[K     |███▌                            | 133 kB 7.9 MB/s eta 0:00:01\r\u001b[K     |███▉                            | 143 kB 7.9 MB/s eta 0:00:01\r\u001b[K     |████                            | 153 kB 7.9 MB/s eta 0:00:01\r\u001b[K     |████▎                           | 163 kB 7.9 MB/s eta 0:00:01\r\u001b[K     |████▋                           | 174 kB 7.9 MB/s eta 0:00:01\r\u001b[K     |████▉                           | 184 kB 7.9 MB/s eta 0:00:01\r\u001b[K     |█████▏                          | 194 kB 7.9 MB/s eta 0:00:01\r\u001b[K     |█████▍                          | 204 kB 7.9 MB/s eta 0:00:01\r\u001b[K     |█████▊                          | 215 kB 7.9 MB/s eta 0:00:01\r\u001b[K     |██████                          | 225 kB 7.9 MB/s eta 0:00:01\r\u001b[K     |██████▏                         | 235 kB 7.9 MB/s eta 0:00:01\r\u001b[K     |██████▌                         | 245 kB 7.9 MB/s eta 0:00:01\r\u001b[K     |██████▊                         | 256 kB 7.9 MB/s eta 0:00:01\r\u001b[K     |███████                         | 266 kB 7.9 MB/s eta 0:00:01\r\u001b[K     |███████▎                        | 276 kB 7.9 MB/s eta 0:00:01\r\u001b[K     |███████▋                        | 286 kB 7.9 MB/s eta 0:00:01\r\u001b[K     |███████▉                        | 296 kB 7.9 MB/s eta 0:00:01\r\u001b[K     |████████                        | 307 kB 7.9 MB/s eta 0:00:01\r\u001b[K     |████████▍                       | 317 kB 7.9 MB/s eta 0:00:01\r\u001b[K     |████████▋                       | 327 kB 7.9 MB/s eta 0:00:01\r\u001b[K     |█████████                       | 337 kB 7.9 MB/s eta 0:00:01\r\u001b[K     |█████████▏                      | 348 kB 7.9 MB/s eta 0:00:01\r\u001b[K     |█████████▌                      | 358 kB 7.9 MB/s eta 0:00:01\r\u001b[K     |█████████▊                      | 368 kB 7.9 MB/s eta 0:00:01\r\u001b[K     |██████████                      | 378 kB 7.9 MB/s eta 0:00:01\r\u001b[K     |██████████▎                     | 389 kB 7.9 MB/s eta 0:00:01\r\u001b[K     |██████████▌                     | 399 kB 7.9 MB/s eta 0:00:01\r\u001b[K     |██████████▉                     | 409 kB 7.9 MB/s eta 0:00:01\r\u001b[K     |███████████                     | 419 kB 7.9 MB/s eta 0:00:01\r\u001b[K     |███████████▍                    | 430 kB 7.9 MB/s eta 0:00:01\r\u001b[K     |███████████▋                    | 440 kB 7.9 MB/s eta 0:00:01\r\u001b[K     |███████████▉                    | 450 kB 7.9 MB/s eta 0:00:01\r\u001b[K     |████████████▏                   | 460 kB 7.9 MB/s eta 0:00:01\r\u001b[K     |████████████▍                   | 471 kB 7.9 MB/s eta 0:00:01\r\u001b[K     |████████████▊                   | 481 kB 7.9 MB/s eta 0:00:01\r\u001b[K     |█████████████                   | 491 kB 7.9 MB/s eta 0:00:01\r\u001b[K     |█████████████▎                  | 501 kB 7.9 MB/s eta 0:00:01\r\u001b[K     |█████████████▌                  | 512 kB 7.9 MB/s eta 0:00:01\r\u001b[K     |█████████████▊                  | 522 kB 7.9 MB/s eta 0:00:01\r\u001b[K     |██████████████                  | 532 kB 7.9 MB/s eta 0:00:01\r\u001b[K     |██████████████▎                 | 542 kB 7.9 MB/s eta 0:00:01\r\u001b[K     |██████████████▋                 | 552 kB 7.9 MB/s eta 0:00:01\r\u001b[K     |██████████████▉                 | 563 kB 7.9 MB/s eta 0:00:01\r\u001b[K     |███████████████▏                | 573 kB 7.9 MB/s eta 0:00:01\r\u001b[K     |███████████████▍                | 583 kB 7.9 MB/s eta 0:00:01\r\u001b[K     |███████████████▋                | 593 kB 7.9 MB/s eta 0:00:01\r\u001b[K     |████████████████                | 604 kB 7.9 MB/s eta 0:00:01\r\u001b[K     |████████████████▏               | 614 kB 7.9 MB/s eta 0:00:01\r\u001b[K     |████████████████▌               | 624 kB 7.9 MB/s eta 0:00:01\r\u001b[K     |████████████████▊               | 634 kB 7.9 MB/s eta 0:00:01\r\u001b[K     |█████████████████               | 645 kB 7.9 MB/s eta 0:00:01\r\u001b[K     |█████████████████▎              | 655 kB 7.9 MB/s eta 0:00:01\r\u001b[K     |█████████████████▌              | 665 kB 7.9 MB/s eta 0:00:01\r\u001b[K     |█████████████████▉              | 675 kB 7.9 MB/s eta 0:00:01\r\u001b[K     |██████████████████              | 686 kB 7.9 MB/s eta 0:00:01\r\u001b[K     |██████████████████▍             | 696 kB 7.9 MB/s eta 0:00:01\r\u001b[K     |██████████████████▋             | 706 kB 7.9 MB/s eta 0:00:01\r\u001b[K     |███████████████████             | 716 kB 7.9 MB/s eta 0:00:01\r\u001b[K     |███████████████████▏            | 727 kB 7.9 MB/s eta 0:00:01\r\u001b[K     |███████████████████▍            | 737 kB 7.9 MB/s eta 0:00:01\r\u001b[K     |███████████████████▊            | 747 kB 7.9 MB/s eta 0:00:01\r\u001b[K     |████████████████████            | 757 kB 7.9 MB/s eta 0:00:01\r\u001b[K     |████████████████████▎           | 768 kB 7.9 MB/s eta 0:00:01\r\u001b[K     |████████████████████▌           | 778 kB 7.9 MB/s eta 0:00:01\r\u001b[K     |████████████████████▉           | 788 kB 7.9 MB/s eta 0:00:01\r\u001b[K     |█████████████████████           | 798 kB 7.9 MB/s eta 0:00:01\r\u001b[K     |█████████████████████▎          | 808 kB 7.9 MB/s eta 0:00:01\r\u001b[K     |█████████████████████▋          | 819 kB 7.9 MB/s eta 0:00:01\r\u001b[K     |█████████████████████▉          | 829 kB 7.9 MB/s eta 0:00:01\r\u001b[K     |██████████████████████▏         | 839 kB 7.9 MB/s eta 0:00:01\r\u001b[K     |██████████████████████▍         | 849 kB 7.9 MB/s eta 0:00:01\r\u001b[K     |██████████████████████▊         | 860 kB 7.9 MB/s eta 0:00:01\r\u001b[K     |███████████████████████         | 870 kB 7.9 MB/s eta 0:00:01\r\u001b[K     |███████████████████████▏        | 880 kB 7.9 MB/s eta 0:00:01\r\u001b[K     |███████████████████████▌        | 890 kB 7.9 MB/s eta 0:00:01\r\u001b[K     |███████████████████████▊        | 901 kB 7.9 MB/s eta 0:00:01\r\u001b[K     |████████████████████████        | 911 kB 7.9 MB/s eta 0:00:01\r\u001b[K     |████████████████████████▎       | 921 kB 7.9 MB/s eta 0:00:01\r\u001b[K     |████████████████████████▋       | 931 kB 7.9 MB/s eta 0:00:01\r\u001b[K     |████████████████████████▉       | 942 kB 7.9 MB/s eta 0:00:01\r\u001b[K     |█████████████████████████       | 952 kB 7.9 MB/s eta 0:00:01\r\u001b[K     |█████████████████████████▍      | 962 kB 7.9 MB/s eta 0:00:01\r\u001b[K     |█████████████████████████▋      | 972 kB 7.9 MB/s eta 0:00:01\r\u001b[K     |██████████████████████████      | 983 kB 7.9 MB/s eta 0:00:01\r\u001b[K     |██████████████████████████▏     | 993 kB 7.9 MB/s eta 0:00:01\r\u001b[K     |██████████████████████████▌     | 1.0 MB 7.9 MB/s eta 0:00:01\r\u001b[K     |██████████████████████████▊     | 1.0 MB 7.9 MB/s eta 0:00:01\r\u001b[K     |███████████████████████████     | 1.0 MB 7.9 MB/s eta 0:00:01\r\u001b[K     |███████████████████████████▎    | 1.0 MB 7.9 MB/s eta 0:00:01\r\u001b[K     |███████████████████████████▌    | 1.0 MB 7.9 MB/s eta 0:00:01\r\u001b[K     |███████████████████████████▉    | 1.1 MB 7.9 MB/s eta 0:00:01\r\u001b[K     |████████████████████████████    | 1.1 MB 7.9 MB/s eta 0:00:01\r\u001b[K     |████████████████████████████▍   | 1.1 MB 7.9 MB/s eta 0:00:01\r\u001b[K     |████████████████████████████▋   | 1.1 MB 7.9 MB/s eta 0:00:01\r\u001b[K     |████████████████████████████▉   | 1.1 MB 7.9 MB/s eta 0:00:01\r\u001b[K     |█████████████████████████████▏  | 1.1 MB 7.9 MB/s eta 0:00:01\r\u001b[K     |█████████████████████████████▍  | 1.1 MB 7.9 MB/s eta 0:00:01\r\u001b[K     |█████████████████████████████▊  | 1.1 MB 7.9 MB/s eta 0:00:01\r\u001b[K     |██████████████████████████████  | 1.1 MB 7.9 MB/s eta 0:00:01\r\u001b[K     |██████████████████████████████▎ | 1.1 MB 7.9 MB/s eta 0:00:01\r\u001b[K     |██████████████████████████████▌ | 1.2 MB 7.9 MB/s eta 0:00:01\r\u001b[K     |██████████████████████████████▊ | 1.2 MB 7.9 MB/s eta 0:00:01\r\u001b[K     |███████████████████████████████ | 1.2 MB 7.9 MB/s eta 0:00:01\r\u001b[K     |███████████████████████████████▎| 1.2 MB 7.9 MB/s eta 0:00:01\r\u001b[K     |███████████████████████████████▋| 1.2 MB 7.9 MB/s eta 0:00:01\r\u001b[K     |███████████████████████████████▉| 1.2 MB 7.9 MB/s eta 0:00:01\r\u001b[K     |████████████████████████████████| 1.2 MB 7.9 MB/s \n",
            "\u001b[?25hInstalling collected packages: sentencepiece\n",
            "Successfully installed sentencepiece-0.1.96\n",
            "Collecting transformers\n",
            "  Downloading transformers-4.19.0-py3-none-any.whl (4.2 MB)\n",
            "\u001b[K     |████████████████████████████████| 4.2 MB 8.3 MB/s \n",
            "\u001b[?25hRequirement already satisfied: regex!=2019.12.17 in /usr/local/lib/python3.7/dist-packages (from transformers) (2019.12.20)\n",
            "Requirement already satisfied: importlib-metadata in /usr/local/lib/python3.7/dist-packages (from transformers) (4.11.3)\n",
            "Collecting pyyaml>=5.1\n",
            "  Downloading PyYAML-6.0-cp37-cp37m-manylinux_2_5_x86_64.manylinux1_x86_64.manylinux_2_12_x86_64.manylinux2010_x86_64.whl (596 kB)\n",
            "\u001b[K     |████████████████████████████████| 596 kB 63.6 MB/s \n",
            "\u001b[?25hRequirement already satisfied: numpy>=1.17 in /usr/local/lib/python3.7/dist-packages (from transformers) (1.21.6)\n",
            "Requirement already satisfied: packaging>=20.0 in /usr/local/lib/python3.7/dist-packages (from transformers) (21.3)\n",
            "Collecting tokenizers!=0.11.3,<0.13,>=0.11.1\n",
            "  Downloading tokenizers-0.12.1-cp37-cp37m-manylinux_2_12_x86_64.manylinux2010_x86_64.whl (6.6 MB)\n",
            "\u001b[K     |████████████████████████████████| 6.6 MB 54.6 MB/s \n",
            "\u001b[?25hRequirement already satisfied: tqdm>=4.27 in /usr/local/lib/python3.7/dist-packages (from transformers) (4.64.0)\n",
            "Collecting huggingface-hub<1.0,>=0.1.0\n",
            "  Downloading huggingface_hub-0.6.0-py3-none-any.whl (84 kB)\n",
            "\u001b[K     |████████████████████████████████| 84 kB 1.1 MB/s \n",
            "\u001b[?25hRequirement already satisfied: requests in /usr/local/lib/python3.7/dist-packages (from transformers) (2.23.0)\n",
            "Requirement already satisfied: filelock in /usr/local/lib/python3.7/dist-packages (from transformers) (3.6.0)\n",
            "Requirement already satisfied: typing-extensions>=3.7.4.3 in /usr/local/lib/python3.7/dist-packages (from huggingface-hub<1.0,>=0.1.0->transformers) (4.2.0)\n",
            "Requirement already satisfied: pyparsing!=3.0.5,>=2.0.2 in /usr/local/lib/python3.7/dist-packages (from packaging>=20.0->transformers) (3.0.8)\n",
            "Requirement already satisfied: zipp>=0.5 in /usr/local/lib/python3.7/dist-packages (from importlib-metadata->transformers) (3.8.0)\n",
            "Requirement already satisfied: urllib3!=1.25.0,!=1.25.1,<1.26,>=1.21.1 in /usr/local/lib/python3.7/dist-packages (from requests->transformers) (1.24.3)\n",
            "Requirement already satisfied: chardet<4,>=3.0.2 in /usr/local/lib/python3.7/dist-packages (from requests->transformers) (3.0.4)\n",
            "Requirement already satisfied: idna<3,>=2.5 in /usr/local/lib/python3.7/dist-packages (from requests->transformers) (2.10)\n",
            "Requirement already satisfied: certifi>=2017.4.17 in /usr/local/lib/python3.7/dist-packages (from requests->transformers) (2021.10.8)\n",
            "Installing collected packages: pyyaml, tokenizers, huggingface-hub, transformers\n",
            "  Attempting uninstall: pyyaml\n",
            "    Found existing installation: PyYAML 3.13\n",
            "    Uninstalling PyYAML-3.13:\n",
            "      Successfully uninstalled PyYAML-3.13\n",
            "Successfully installed huggingface-hub-0.6.0 pyyaml-6.0 tokenizers-0.12.1 transformers-4.19.0\n"
          ]
        }
      ]
    },
    {
      "cell_type": "code",
      "source": [
        "!cp /content/drive/MyDrive/mumin-classifier/tg_data.py /content\n",
        "!cp /content/drive/MyDrive/mumin-classifier/data_utils.py /content\n",
        "!cp /content/drive/MyDrive/mumin-classifier/finetuning_utils.py /content"
      ],
      "metadata": {
        "id": "5-PQ46Ro9LRU"
      },
      "execution_count": null,
      "outputs": []
    },
    {
      "cell_type": "markdown",
      "source": [
        "# Training"
      ],
      "metadata": {
        "id": "P7x-oH6UTmol"
      }
    },
    {
      "cell_type": "code",
      "source": [
        "def compute_metrics(eval_pred):\n",
        "    \"\"\"Computes accuracy, f1, precision, and recall from a \n",
        "    transformers.trainer_utils.EvalPrediction object.\n",
        "    \"\"\"\n",
        "    from sklearn import metrics\n",
        "    labels = eval_pred.label_ids\n",
        "    preds = eval_pred.predictions.argmax(-1)\n",
        "\n",
        "    accuracy = metrics.accuracy_score(y_true=labels, y_pred=preds)\n",
        "    precision, recall, f1, _ = metrics.precision_recall_fscore_support(y_true=labels, y_pred=preds, average=\"macro\")\n",
        "\n",
        "    result = {\n",
        "        'accuracy': accuracy,\n",
        "        'f1': f1,\n",
        "        'precision': precision,\n",
        "        'recall': recall\n",
        "    }\n",
        "\n",
        "    return result\n",
        "\n",
        "def model_init():\n",
        "    \"\"\"Returns an initialized model for use in a Hugging Face Trainer.\"\"\"\n",
        "    from transformers import XLMRobertaConfig, XLMRobertaForSequenceClassification\n",
        "\n",
        "    configuration = XLMRobertaConfig()\n",
        "    model = XLMRobertaForSequenceClassification(configuration).from_pretrained(\"xlm-roberta-base\")\n",
        "\n",
        "    return model\n"
      ],
      "metadata": {
        "id": "4pmNRfMvuvRq"
      },
      "execution_count": null,
      "outputs": []
    },
    {
      "cell_type": "code",
      "source": [
        "import argparse\n",
        "import tg_data\n",
        "import data_utils\n",
        "import pandas as pd\n",
        "import torch\n",
        "import transformers\n",
        "from transformers import XLMRobertaTokenizer, Trainer, TrainingArguments\n",
        "from transformers import BertTokenizer, XLMRobertaForSequenceClassification\n",
        "import sklearn\n",
        "import numpy as np\n",
        "from sklearn import metrics\n",
        "from sklearn.metrics import f1_score\n",
        "\n",
        "\n",
        "train_df = pd.read_csv(\"/content/drive/MyDrive/mumin-classifier/data/train_m.csv\")\n",
        "val_df = pd.read_csv(\"/content/drive/MyDrive/mumin-classifier/data/val_m.csv\")\n",
        "test_df = pd.read_csv(\"/content/drive/MyDrive/mumin-classifier/data/test_m.csv\")\n",
        "\n",
        "tokenizer = XLMRobertaTokenizer.from_pretrained(\"xlm-roberta-base\")\n",
        "train_data = tg_data.TGDataset(train_df, tokenizer)\n",
        "val_data = tg_data.TGDataset(val_df, tokenizer)\n",
        "test_data = tg_data.TGDataset(test_df, tokenizer)\n",
        "\n",
        "model_path = \"out_xlmroberta\"\n",
        "trainingargs = TrainingArguments(\n",
        "    output_dir=model_path,\n",
        "    do_train=True,\n",
        "    do_eval=True,\n",
        "    disable_tqdm=False,\n",
        "    learning_rate=1e-5,\n",
        "    num_train_epochs=3,\n",
        "    weight_decay=0.01,\n",
        "    logging_steps=500,\n",
        "    logging_first_step=True,\n",
        "    #save_steps=1000,\n",
        "    evaluation_strategy = \"epoch\"\n",
        "    )\n",
        "\n",
        "trainer = Trainer(\n",
        "    args = trainingargs,\n",
        "    tokenizer = tokenizer,\n",
        "    train_dataset = train_data,\n",
        "    eval_dataset = val_data,\n",
        "    model_init = model_init,\n",
        "    compute_metrics = compute_metrics\n",
        "    )\n",
        "\n",
        "print(\"STARTED TRAINING\")\n",
        "trainer.train()\n",
        "print(\"TRAINING DONE\")\n",
        "\n",
        "trainer.save_model()\n",
        "print(\"MODEL SAVED\")    \n",
        "\n",
        "#Metrics\n",
        "model = XLMRobertaForSequenceClassification.from_pretrained(model_path)\n",
        "\n",
        "predictions = trainer.predict(val_data)\n",
        "preds = np.argmax(predictions.predictions, axis=-1)\n",
        "\n",
        "\n",
        "accuracy = metrics.accuracy_score(y_true=predictions.label_ids, y_pred=preds)\n",
        "precision, recall, f1, _ = metrics.precision_recall_fscore_support(y_true=predictions.label_ids, y_pred=preds, average=\"macro\")\n",
        "\n",
        "print({'accuracy': accuracy,\n",
        "       'f1': f1,\n",
        "       'precision': precision,\n",
        "       'recall': recall})"
      ],
      "metadata": {
        "colab": {
          "base_uri": "https://localhost:8080/",
          "height": 1000,
          "referenced_widgets": [
            "4bf4efe38852415c8ca838069d37cf6f",
            "b02e029bb8ed41599f10b6a704a7e874",
            "65e6acb5215b41b8966a7b39a2b67137",
            "bdae83ae9acf451b886fa6ef4ca5c6fc",
            "b5b99fc4d3dc4cd5ab3806dbf11101b8",
            "636be5c333e74118aaf2d82b96e76ecc",
            "ff185996ea9948bf800761421b963d82",
            "26ef64678b6545a98816c5e09bff1a60",
            "7fb5cbd35b764c6da23d4f05e804daf9",
            "7c459aa1ebef41e989a412761f842a90",
            "6fa4808966d24be18547897c03d0121f",
            "99ace7e7eab344128d09354d4d4e283b",
            "1186cbfa54c649248595f3918d4dce77",
            "3c9dbc2bb79c4f3a9dae7f653077486f",
            "fc247d4e37f84e5893395a16cb550f55",
            "609b4ffc3bb54d919dba631fada7dc4c",
            "c210f3331d4447d9a5c845250acd6000",
            "161701d4dc24464eb2031a59fdf218af",
            "6baecc492db64e7380965b9fdc30ce47",
            "8b22a7cb7fc446fc82bad4a426fba931",
            "bcee9927a3a440c099704c10edbe07a4",
            "db1e59d828e549c9bd9a9737b5d2f6cd",
            "bf227669e8684f609cf6a5cbb361925b",
            "c468a24e89fd4bb0ac8f58a48ffdc9ec",
            "6bbb46b92e2643a9b70a970737cdcfdf",
            "65f527fb99eb489698985e3ec01a6e8b",
            "3df920a8ea674d79884bdea046f22ecc",
            "fc5584076d2c410c8144014dae644676",
            "7130e0340dc04bc1a683b083245205ab",
            "05d7a46eb0444b7da5ddcc0201d70b16",
            "8583b22bc7de424d965eba5c3001c577",
            "e26cb0fc0e694f1d9af3c17216b1e896",
            "18aa8ede475147c98487703a706785a3"
          ]
        },
        "id": "GWZ-yfPZ7-sf",
        "outputId": "45766968-1c9b-425e-e60e-a06e9c2bf136"
      },
      "execution_count": null,
      "outputs": [
        {
          "output_type": "display_data",
          "data": {
            "text/plain": [
              "Downloading:   0%|          | 0.00/4.83M [00:00<?, ?B/s]"
            ],
            "application/vnd.jupyter.widget-view+json": {
              "version_major": 2,
              "version_minor": 0,
              "model_id": "4bf4efe38852415c8ca838069d37cf6f"
            }
          },
          "metadata": {}
        },
        {
          "output_type": "display_data",
          "data": {
            "text/plain": [
              "Downloading:   0%|          | 0.00/615 [00:00<?, ?B/s]"
            ],
            "application/vnd.jupyter.widget-view+json": {
              "version_major": 2,
              "version_minor": 0,
              "model_id": "99ace7e7eab344128d09354d4d4e283b"
            }
          },
          "metadata": {}
        },
        {
          "output_type": "stream",
          "name": "stderr",
          "text": [
            "loading configuration file https://huggingface.co/xlm-roberta-base/resolve/main/config.json from cache at /root/.cache/huggingface/transformers/87683eb92ea383b0475fecf99970e950a03c9ff5e51648d6eee56fb754612465.dfaaaedc7c1c475302398f09706cbb21e23951b73c6e2b3162c1c8a99bb3b62a\n",
            "Model config XLMRobertaConfig {\n",
            "  \"architectures\": [\n",
            "    \"XLMRobertaForMaskedLM\"\n",
            "  ],\n",
            "  \"attention_probs_dropout_prob\": 0.1,\n",
            "  \"bos_token_id\": 0,\n",
            "  \"classifier_dropout\": null,\n",
            "  \"eos_token_id\": 2,\n",
            "  \"hidden_act\": \"gelu\",\n",
            "  \"hidden_dropout_prob\": 0.1,\n",
            "  \"hidden_size\": 768,\n",
            "  \"initializer_range\": 0.02,\n",
            "  \"intermediate_size\": 3072,\n",
            "  \"layer_norm_eps\": 1e-05,\n",
            "  \"max_position_embeddings\": 514,\n",
            "  \"model_type\": \"xlm-roberta\",\n",
            "  \"num_attention_heads\": 12,\n",
            "  \"num_hidden_layers\": 12,\n",
            "  \"output_past\": true,\n",
            "  \"pad_token_id\": 1,\n",
            "  \"position_embedding_type\": \"absolute\",\n",
            "  \"transformers_version\": \"4.19.0\",\n",
            "  \"type_vocab_size\": 1,\n",
            "  \"use_cache\": true,\n",
            "  \"vocab_size\": 250002\n",
            "}\n",
            "\n",
            "https://huggingface.co/xlm-roberta-base/resolve/main/pytorch_model.bin not found in cache or force_download set to True, downloading to /root/.cache/huggingface/transformers/tmp6_yclrfz\n"
          ]
        },
        {
          "output_type": "display_data",
          "data": {
            "text/plain": [
              "Downloading:   0%|          | 0.00/1.04G [00:00<?, ?B/s]"
            ],
            "application/vnd.jupyter.widget-view+json": {
              "version_major": 2,
              "version_minor": 0,
              "model_id": "bf227669e8684f609cf6a5cbb361925b"
            }
          },
          "metadata": {}
        },
        {
          "output_type": "stream",
          "name": "stderr",
          "text": [
            "storing https://huggingface.co/xlm-roberta-base/resolve/main/pytorch_model.bin in cache at /root/.cache/huggingface/transformers/97d0ea09f8074264957d062ec20ccb79af7b917d091add8261b26874daf51b5d.f42212747c1c27fcebaa0a89e2a83c38c6d3d4340f21922f892b88d882146ac2\n",
            "creating metadata file for /root/.cache/huggingface/transformers/97d0ea09f8074264957d062ec20ccb79af7b917d091add8261b26874daf51b5d.f42212747c1c27fcebaa0a89e2a83c38c6d3d4340f21922f892b88d882146ac2\n",
            "loading weights file https://huggingface.co/xlm-roberta-base/resolve/main/pytorch_model.bin from cache at /root/.cache/huggingface/transformers/97d0ea09f8074264957d062ec20ccb79af7b917d091add8261b26874daf51b5d.f42212747c1c27fcebaa0a89e2a83c38c6d3d4340f21922f892b88d882146ac2\n",
            "Some weights of the model checkpoint at xlm-roberta-base were not used when initializing XLMRobertaForSequenceClassification: ['lm_head.dense.weight', 'roberta.pooler.dense.bias', 'lm_head.layer_norm.weight', 'roberta.pooler.dense.weight', 'lm_head.dense.bias', 'lm_head.decoder.weight', 'lm_head.layer_norm.bias', 'lm_head.bias']\n",
            "- This IS expected if you are initializing XLMRobertaForSequenceClassification from the checkpoint of a model trained on another task or with another architecture (e.g. initializing a BertForSequenceClassification model from a BertForPreTraining model).\n",
            "- This IS NOT expected if you are initializing XLMRobertaForSequenceClassification from the checkpoint of a model that you expect to be exactly identical (initializing a BertForSequenceClassification model from a BertForSequenceClassification model).\n",
            "Some weights of XLMRobertaForSequenceClassification were not initialized from the model checkpoint at xlm-roberta-base and are newly initialized: ['classifier.out_proj.bias', 'classifier.dense.weight', 'classifier.out_proj.weight', 'classifier.dense.bias']\n",
            "You should probably TRAIN this model on a down-stream task to be able to use it for predictions and inference.\n"
          ]
        },
        {
          "output_type": "stream",
          "name": "stdout",
          "text": [
            "STARTED TRAINING\n"
          ]
        },
        {
          "output_type": "stream",
          "name": "stderr",
          "text": [
            "loading configuration file https://huggingface.co/xlm-roberta-base/resolve/main/config.json from cache at /root/.cache/huggingface/transformers/87683eb92ea383b0475fecf99970e950a03c9ff5e51648d6eee56fb754612465.dfaaaedc7c1c475302398f09706cbb21e23951b73c6e2b3162c1c8a99bb3b62a\n",
            "Model config XLMRobertaConfig {\n",
            "  \"architectures\": [\n",
            "    \"XLMRobertaForMaskedLM\"\n",
            "  ],\n",
            "  \"attention_probs_dropout_prob\": 0.1,\n",
            "  \"bos_token_id\": 0,\n",
            "  \"classifier_dropout\": null,\n",
            "  \"eos_token_id\": 2,\n",
            "  \"hidden_act\": \"gelu\",\n",
            "  \"hidden_dropout_prob\": 0.1,\n",
            "  \"hidden_size\": 768,\n",
            "  \"initializer_range\": 0.02,\n",
            "  \"intermediate_size\": 3072,\n",
            "  \"layer_norm_eps\": 1e-05,\n",
            "  \"max_position_embeddings\": 514,\n",
            "  \"model_type\": \"xlm-roberta\",\n",
            "  \"num_attention_heads\": 12,\n",
            "  \"num_hidden_layers\": 12,\n",
            "  \"output_past\": true,\n",
            "  \"pad_token_id\": 1,\n",
            "  \"position_embedding_type\": \"absolute\",\n",
            "  \"transformers_version\": \"4.19.0\",\n",
            "  \"type_vocab_size\": 1,\n",
            "  \"use_cache\": true,\n",
            "  \"vocab_size\": 250002\n",
            "}\n",
            "\n",
            "loading weights file https://huggingface.co/xlm-roberta-base/resolve/main/pytorch_model.bin from cache at /root/.cache/huggingface/transformers/97d0ea09f8074264957d062ec20ccb79af7b917d091add8261b26874daf51b5d.f42212747c1c27fcebaa0a89e2a83c38c6d3d4340f21922f892b88d882146ac2\n",
            "Some weights of the model checkpoint at xlm-roberta-base were not used when initializing XLMRobertaForSequenceClassification: ['lm_head.dense.weight', 'roberta.pooler.dense.bias', 'lm_head.layer_norm.weight', 'roberta.pooler.dense.weight', 'lm_head.dense.bias', 'lm_head.decoder.weight', 'lm_head.layer_norm.bias', 'lm_head.bias']\n",
            "- This IS expected if you are initializing XLMRobertaForSequenceClassification from the checkpoint of a model trained on another task or with another architecture (e.g. initializing a BertForSequenceClassification model from a BertForPreTraining model).\n",
            "- This IS NOT expected if you are initializing XLMRobertaForSequenceClassification from the checkpoint of a model that you expect to be exactly identical (initializing a BertForSequenceClassification model from a BertForSequenceClassification model).\n",
            "Some weights of XLMRobertaForSequenceClassification were not initialized from the model checkpoint at xlm-roberta-base and are newly initialized: ['classifier.out_proj.bias', 'classifier.dense.weight', 'classifier.out_proj.weight', 'classifier.dense.bias']\n",
            "You should probably TRAIN this model on a down-stream task to be able to use it for predictions and inference.\n",
            "/usr/local/lib/python3.7/dist-packages/transformers/optimization.py:309: FutureWarning: This implementation of AdamW is deprecated and will be removed in a future version. Use the PyTorch implementation torch.optim.AdamW instead, or set `no_deprecation_warning=True` to disable this warning\n",
            "  FutureWarning,\n",
            "***** Running training *****\n",
            "  Num examples = 3597\n",
            "  Num Epochs = 3\n",
            "  Instantaneous batch size per device = 8\n",
            "  Total train batch size (w. parallel, distributed & accumulation) = 8\n",
            "  Gradient Accumulation steps = 1\n",
            "  Total optimization steps = 1350\n"
          ]
        },
        {
          "output_type": "display_data",
          "data": {
            "text/plain": [
              "<IPython.core.display.HTML object>"
            ],
            "text/html": [
              "\n",
              "    <div>\n",
              "      \n",
              "      <progress value='1350' max='1350' style='width:300px; height:20px; vertical-align: middle;'></progress>\n",
              "      [1350/1350 11:03, Epoch 3/3]\n",
              "    </div>\n",
              "    <table border=\"1\" class=\"dataframe\">\n",
              "  <thead>\n",
              " <tr style=\"text-align: left;\">\n",
              "      <th>Epoch</th>\n",
              "      <th>Training Loss</th>\n",
              "      <th>Validation Loss</th>\n",
              "      <th>Accuracy</th>\n",
              "      <th>F1</th>\n",
              "      <th>Precision</th>\n",
              "      <th>Recall</th>\n",
              "    </tr>\n",
              "  </thead>\n",
              "  <tbody>\n",
              "    <tr>\n",
              "      <td>1</td>\n",
              "      <td>0.713600</td>\n",
              "      <td>0.065513</td>\n",
              "      <td>0.987692</td>\n",
              "      <td>0.496904</td>\n",
              "      <td>0.493846</td>\n",
              "      <td>0.500000</td>\n",
              "    </tr>\n",
              "    <tr>\n",
              "      <td>2</td>\n",
              "      <td>0.345900</td>\n",
              "      <td>0.245222</td>\n",
              "      <td>0.829231</td>\n",
              "      <td>0.470556</td>\n",
              "      <td>0.503821</td>\n",
              "      <td>0.543224</td>\n",
              "    </tr>\n",
              "    <tr>\n",
              "      <td>3</td>\n",
              "      <td>0.281900</td>\n",
              "      <td>0.273809</td>\n",
              "      <td>0.886154</td>\n",
              "      <td>0.495363</td>\n",
              "      <td>0.509113</td>\n",
              "      <td>0.572040</td>\n",
              "    </tr>\n",
              "  </tbody>\n",
              "</table><p>"
            ]
          },
          "metadata": {}
        },
        {
          "output_type": "stream",
          "name": "stderr",
          "text": [
            "***** Running Evaluation *****\n",
            "  Num examples = 650\n",
            "  Batch size = 8\n",
            "/usr/local/lib/python3.7/dist-packages/sklearn/metrics/_classification.py:1318: UndefinedMetricWarning: Precision and F-score are ill-defined and being set to 0.0 in labels with no predicted samples. Use `zero_division` parameter to control this behavior.\n",
            "  _warn_prf(average, modifier, msg_start, len(result))\n",
            "Saving model checkpoint to out_xlmroberta/checkpoint-500\n",
            "Configuration saved in out_xlmroberta/checkpoint-500/config.json\n",
            "Model weights saved in out_xlmroberta/checkpoint-500/pytorch_model.bin\n",
            "tokenizer config file saved in out_xlmroberta/checkpoint-500/tokenizer_config.json\n",
            "Special tokens file saved in out_xlmroberta/checkpoint-500/special_tokens_map.json\n",
            "***** Running Evaluation *****\n",
            "  Num examples = 650\n",
            "  Batch size = 8\n",
            "Saving model checkpoint to out_xlmroberta/checkpoint-1000\n",
            "Configuration saved in out_xlmroberta/checkpoint-1000/config.json\n",
            "Model weights saved in out_xlmroberta/checkpoint-1000/pytorch_model.bin\n",
            "tokenizer config file saved in out_xlmroberta/checkpoint-1000/tokenizer_config.json\n",
            "Special tokens file saved in out_xlmroberta/checkpoint-1000/special_tokens_map.json\n",
            "***** Running Evaluation *****\n",
            "  Num examples = 650\n",
            "  Batch size = 8\n",
            "\n",
            "\n",
            "Training completed. Do not forget to share your model on huggingface.co/models =)\n",
            "\n",
            "\n",
            "Saving model checkpoint to out_xlmroberta\n",
            "Configuration saved in out_xlmroberta/config.json\n"
          ]
        },
        {
          "output_type": "stream",
          "name": "stdout",
          "text": [
            "TRAINING DONE\n"
          ]
        },
        {
          "output_type": "stream",
          "name": "stderr",
          "text": [
            "Model weights saved in out_xlmroberta/pytorch_model.bin\n",
            "tokenizer config file saved in out_xlmroberta/tokenizer_config.json\n",
            "Special tokens file saved in out_xlmroberta/special_tokens_map.json\n",
            "loading configuration file out_xlmroberta/config.json\n",
            "Model config XLMRobertaConfig {\n",
            "  \"_name_or_path\": \"xlm-roberta-base\",\n",
            "  \"architectures\": [\n",
            "    \"XLMRobertaForSequenceClassification\"\n",
            "  ],\n",
            "  \"attention_probs_dropout_prob\": 0.1,\n",
            "  \"bos_token_id\": 0,\n",
            "  \"classifier_dropout\": null,\n",
            "  \"eos_token_id\": 2,\n",
            "  \"hidden_act\": \"gelu\",\n",
            "  \"hidden_dropout_prob\": 0.1,\n",
            "  \"hidden_size\": 768,\n",
            "  \"initializer_range\": 0.02,\n",
            "  \"intermediate_size\": 3072,\n",
            "  \"layer_norm_eps\": 1e-05,\n",
            "  \"max_position_embeddings\": 514,\n",
            "  \"model_type\": \"xlm-roberta\",\n",
            "  \"num_attention_heads\": 12,\n",
            "  \"num_hidden_layers\": 12,\n",
            "  \"output_past\": true,\n",
            "  \"pad_token_id\": 1,\n",
            "  \"position_embedding_type\": \"absolute\",\n",
            "  \"problem_type\": \"single_label_classification\",\n",
            "  \"torch_dtype\": \"float32\",\n",
            "  \"transformers_version\": \"4.19.0\",\n",
            "  \"type_vocab_size\": 1,\n",
            "  \"use_cache\": true,\n",
            "  \"vocab_size\": 250002\n",
            "}\n",
            "\n",
            "loading weights file out_xlmroberta/pytorch_model.bin\n"
          ]
        },
        {
          "output_type": "stream",
          "name": "stdout",
          "text": [
            "MODEL SAVED\n"
          ]
        },
        {
          "output_type": "stream",
          "name": "stderr",
          "text": [
            "All model checkpoint weights were used when initializing XLMRobertaForSequenceClassification.\n",
            "\n",
            "All the weights of XLMRobertaForSequenceClassification were initialized from the model checkpoint at out_xlmroberta.\n",
            "If your task is similar to the task the model of the checkpoint was trained on, you can already use XLMRobertaForSequenceClassification for predictions without further training.\n",
            "***** Running Prediction *****\n",
            "  Num examples = 650\n",
            "  Batch size = 8\n"
          ]
        },
        {
          "output_type": "display_data",
          "data": {
            "text/plain": [
              "<IPython.core.display.HTML object>"
            ],
            "text/html": [
              "\n",
              "    <div>\n",
              "      \n",
              "      <progress value='82' max='82' style='width:300px; height:20px; vertical-align: middle;'></progress>\n",
              "      [82/82 00:09]\n",
              "    </div>\n",
              "    "
            ]
          },
          "metadata": {}
        },
        {
          "output_type": "stream",
          "name": "stdout",
          "text": [
            "{'accuracy': 0.8861538461538462, 'f1': 0.49536279323513366, 'precision': 0.5091133004926108, 'recall': 0.5720404984423676}\n"
          ]
        }
      ]
    },
    {
      "cell_type": "code",
      "source": [
        "\n",
        "predictions = trainer.predict(test_data)\n",
        "preds = np.argmax(predictions.predictions, axis=-1)\n",
        "\n",
        "test_scores = f1_score(test_data.label_list, preds, average=None) # the labels were for test not val initially - I changed this\n",
        "print(f'macro-average F1: {100 * test_scores.mean():.4f}%')\n",
        "\n",
        "\n",
        "report = sklearn.metrics.classification_report(y_pred=preds, y_true=predictions.label_ids)\n",
        "\n",
        "print(report)"
      ],
      "metadata": {
        "id": "6i8UoAKUwrj2",
        "colab": {
          "base_uri": "https://localhost:8080/",
          "height": 258
        },
        "outputId": "f0bad1bf-2642-4546-c291-c12411a5068d"
      },
      "execution_count": null,
      "outputs": [
        {
          "output_type": "stream",
          "name": "stderr",
          "text": [
            "***** Running Prediction *****\n",
            "  Num examples = 543\n",
            "  Batch size = 8\n"
          ]
        },
        {
          "output_type": "display_data",
          "data": {
            "text/plain": [
              "<IPython.core.display.HTML object>"
            ],
            "text/html": [
              "\n",
              "    <div>\n",
              "      \n",
              "      <progress value='150' max='82' style='width:300px; height:20px; vertical-align: middle;'></progress>\n",
              "      [82/82 00:33]\n",
              "    </div>\n",
              "    "
            ]
          },
          "metadata": {}
        },
        {
          "output_type": "stream",
          "name": "stdout",
          "text": [
            "macro-average F1: 56.4950%\n",
            "              precision    recall  f1-score   support\n",
            "\n",
            "           0       0.13      0.32      0.19        22\n",
            "           1       0.97      0.91      0.94       521\n",
            "\n",
            "    accuracy                           0.89       543\n",
            "   macro avg       0.55      0.62      0.56       543\n",
            "weighted avg       0.94      0.89      0.91       543\n",
            "\n"
          ]
        }
      ]
    },
    {
      "cell_type": "code",
      "source": [
        "print(f'Misinformation F1: {100 * test_scores[1]:.2f}%')\n",
        "print(f'Factual F1: {100 * test_scores[0]:.2f}%')"
      ],
      "metadata": {
        "colab": {
          "base_uri": "https://localhost:8080/"
        },
        "id": "w7Bm44VP89Gg",
        "outputId": "64722f3b-e99e-4c80-b79c-db458c746a1e"
      },
      "execution_count": null,
      "outputs": [
        {
          "output_type": "stream",
          "name": "stdout",
          "text": [
            "Misinformation F1: 94.07%\n",
            "Factual F1: 18.92%\n"
          ]
        }
      ]
    },
    {
      "cell_type": "markdown",
      "source": [
        "# Langauges"
      ],
      "metadata": {
        "id": "D6ea0QJoTrnr"
      }
    },
    {
      "cell_type": "code",
      "source": [
        "from sklearn.dummy import DummyClassifier\n",
        "langs = pd.concat([val_df, test_df])\n",
        "langs = langs.query(\"lang=='en' | lang=='pt' | lang=='es'| lang=='fr'| lang=='ar'\")\n",
        "languages = ['en','pt','es','fr','ar']\n",
        "f1 = []\n",
        "randomf1 = []\n",
        "for lang in languages:\n",
        "  print(\"\\nLANG \", lang)\n",
        "  lang_data = langs.query(f\"lang=='{lang}'\")\n",
        "  test_data = tg_data.TGDataset(lang_data, tokenizer)\n",
        "  predictions = trainer.predict(test_data)\n",
        "  preds = np.argmax(predictions.predictions, axis=-1)\n",
        "\n",
        "  test_scores = f1_score(test_data.label_list, preds, average=None)\n",
        "\n",
        "  print(f'\\nMisinformation F1: {100 * test_scores[1]:.2f}%')\n",
        "  print(f'Factual F1: {100 * test_scores[0]:.2f}%')\n",
        "  print(f'macro-average F1: {100 * test_scores.mean():.4f}%\\n')\n",
        "  f1.append(100 * test_scores.mean())\n",
        "\n",
        "  model = DummyClassifier(strategy=\"most_frequent\")\n",
        "\n",
        "  lang_train_data = train_df.query(f\"lang=='{lang}'\")\n",
        "\n",
        "  model.fit(lang_train_data.text, lang_train_data.label)\n",
        "\n",
        "  test_preds = model.predict(lang_data.text)\n",
        "\n",
        "  test_scores = f1_score(lang_data.label, test_preds , average=None)\n",
        "\n",
        "  print(f'\\nMisinformation F1: {100 * test_scores[1]:.2f}%')\n",
        "  print(f'Factual F1: {100 * test_scores[0]:.2f}%')\n",
        "  print(f'macro-average F1: {100 * test_scores.mean():.4f}%\\n')\n",
        "  randomf1.append(100 * test_scores.mean())\n"
      ],
      "metadata": {
        "colab": {
          "base_uri": "https://localhost:8080/",
          "height": 1000
        },
        "id": "ALTRac8JTu_a",
        "outputId": "0e98e13f-b4cb-408a-c05d-c3eda7cd14d6"
      },
      "execution_count": null,
      "outputs": [
        {
          "output_type": "stream",
          "name": "stderr",
          "text": [
            "***** Running Prediction *****\n",
            "  Num examples = 680\n",
            "  Batch size = 8\n"
          ]
        },
        {
          "output_type": "stream",
          "name": "stdout",
          "text": [
            "\n",
            "LANG  en\n"
          ]
        },
        {
          "output_type": "display_data",
          "data": {
            "text/plain": [
              "<IPython.core.display.HTML object>"
            ],
            "text/html": [
              "\n",
              "    <div>\n",
              "      \n",
              "      <progress value='286' max='82' style='width:300px; height:20px; vertical-align: middle;'></progress>\n",
              "      [82/82 01:35]\n",
              "    </div>\n",
              "    "
            ]
          },
          "metadata": {}
        },
        {
          "output_type": "stream",
          "name": "stderr",
          "text": [
            "***** Running Prediction *****\n",
            "  Num examples = 182\n",
            "  Batch size = 8\n"
          ]
        },
        {
          "output_type": "stream",
          "name": "stdout",
          "text": [
            "\n",
            "Misinformation F1: 92.75%\n",
            "Factual F1: 13.33%\n",
            "macro-average F1: 53.0412%\n",
            "\n",
            "\n",
            "Misinformation F1: 98.28%\n",
            "Factual F1: 0.00%\n",
            "macro-average F1: 49.1399%\n",
            "\n",
            "\n",
            "LANG  pt\n"
          ]
        },
        {
          "output_type": "stream",
          "name": "stderr",
          "text": [
            "***** Running Prediction *****\n",
            "  Num examples = 111\n",
            "  Batch size = 8\n"
          ]
        },
        {
          "output_type": "stream",
          "name": "stdout",
          "text": [
            "\n",
            "Misinformation F1: 97.75%\n",
            "Factual F1: 0.00%\n",
            "macro-average F1: 48.8764%\n",
            "\n",
            "\n",
            "Misinformation F1: 99.72%\n",
            "Factual F1: 0.00%\n",
            "macro-average F1: 49.8623%\n",
            "\n",
            "\n",
            "LANG  es\n"
          ]
        },
        {
          "output_type": "stream",
          "name": "stderr",
          "text": [
            "***** Running Prediction *****\n",
            "  Num examples = 66\n",
            "  Batch size = 8\n"
          ]
        },
        {
          "output_type": "stream",
          "name": "stdout",
          "text": [
            "\n",
            "Misinformation F1: 97.22%\n",
            "Factual F1: 0.00%\n",
            "macro-average F1: 48.6111%\n",
            "\n",
            "\n",
            "Misinformation F1: 99.09%\n",
            "Factual F1: 0.00%\n",
            "macro-average F1: 49.5455%\n",
            "\n",
            "\n",
            "LANG  fr\n"
          ]
        },
        {
          "output_type": "stream",
          "name": "stderr",
          "text": [
            "***** Running Prediction *****\n",
            "  Num examples = 38\n",
            "  Batch size = 8\n"
          ]
        },
        {
          "output_type": "stream",
          "name": "stdout",
          "text": [
            "\n",
            "Misinformation F1: 90.00%\n",
            "Factual F1: 0.00%\n",
            "macro-average F1: 45.0000%\n",
            "\n",
            "\n",
            "Misinformation F1: 99.24%\n",
            "Factual F1: 0.00%\n",
            "macro-average F1: 49.6183%\n",
            "\n",
            "\n",
            "LANG  ar\n",
            "\n",
            "Misinformation F1: 86.57%\n",
            "Factual F1: 0.00%\n",
            "macro-average F1: 43.2836%\n",
            "\n",
            "\n",
            "Misinformation F1: 98.67%\n",
            "Factual F1: 0.00%\n",
            "macro-average F1: 49.3333%\n",
            "\n"
          ]
        }
      ]
    },
    {
      "cell_type": "code",
      "source": [
        "import matplotlib.pyplot as plt\n",
        "import seaborn as sns\n",
        "sns.set_palette(\"summer\")\n",
        "sns.set_style(\"white\")\n",
        "sns.barplot(languages, f1)\n",
        "sns.lineplot(languages, sum(randomf1)/len(randomf1), c=\"r\")"
      ],
      "metadata": {
        "colab": {
          "base_uri": "https://localhost:8080/",
          "height": 438
        },
        "id": "6gEROTLsYnf9",
        "outputId": "fd09fdbb-3c75-453e-ac3b-d41f48596514"
      },
      "execution_count": null,
      "outputs": [
        {
          "output_type": "stream",
          "name": "stderr",
          "text": [
            "/usr/local/lib/python3.7/dist-packages/seaborn/_decorators.py:43: FutureWarning: Pass the following variables as keyword args: x, y. From version 0.12, the only valid positional argument will be `data`, and passing other arguments without an explicit keyword will result in an error or misinterpretation.\n",
            "  FutureWarning\n",
            "/usr/local/lib/python3.7/dist-packages/seaborn/_decorators.py:43: FutureWarning: Pass the following variables as keyword args: x, y. From version 0.12, the only valid positional argument will be `data`, and passing other arguments without an explicit keyword will result in an error or misinterpretation.\n",
            "  FutureWarning\n",
            "/usr/local/lib/python3.7/dist-packages/seaborn/relational.py:514: MatplotlibDeprecationWarning: Saw kwargs ['c', 'color'] which are all aliases for 'color'.  Kept value from 'color'.  Passing multiple aliases for the same property will raise a TypeError in 3.3.\n",
            "  line, = ax.plot([], [], **kws)\n",
            "/usr/local/lib/python3.7/dist-packages/seaborn/relational.py:529: MatplotlibDeprecationWarning: Saw kwargs ['c', 'color'] which are all aliases for 'color'.  Kept value from 'color'.  Passing multiple aliases for the same property will raise a TypeError in 3.3.\n",
            "  line, = ax.plot(x, y, **kws)\n"
          ]
        },
        {
          "output_type": "execute_result",
          "data": {
            "text/plain": [
              "<matplotlib.axes._subplots.AxesSubplot at 0x7f766e80bc10>"
            ]
          },
          "metadata": {},
          "execution_count": 10
        },
        {
          "output_type": "display_data",
          "data": {
            "text/plain": [
              "<Figure size 432x288 with 1 Axes>"
            ],
            "image/png": "[encoded data removed]"
          },
          "metadata": {}
        }
      ]
    },
    {
      "cell_type": "code",
      "source": [
        "randomf1"
      ],
      "metadata": {
        "colab": {
          "base_uri": "https://localhost:8080/"
        },
        "id": "e-SVKxmZaVvz",
        "outputId": "e130e947-f246-48ed-e732-e7daff6b83c4"
      },
      "execution_count": null,
      "outputs": [
        {
          "output_type": "execute_result",
          "data": {
            "text/plain": [
              "[49.13986537023186,\n",
              " 49.862258953168045,\n",
              " 49.54545454545454,\n",
              " 49.61832061068702,\n",
              " 49.33333333333333]"
            ]
          },
          "metadata": {},
          "execution_count": 13
        }
      ]
    }
  ]
}